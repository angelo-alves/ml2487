{
  "nbformat": 4,
  "nbformat_minor": 0,
  "metadata": {
    "colab": {
      "name": "Assignment4.ipynb",
      "version": "0.3.2",
      "provenance": []
    },
    "language_info": {
      "codemirror_mode": {
        "name": "ipython",
        "version": 3
      },
      "file_extension": ".py",
      "mimetype": "text/x-python",
      "name": "python",
      "nbconvert_exporter": "python",
      "pygments_lexer": "ipython3",
      "version": "3.6.8"
    },
    "kernelspec": {
      "name": "python3",
      "display_name": "Python 3"
    },
    "accelerator": "GPU"
  },
  "cells": [
    {
      "cell_type": "markdown",
      "metadata": {
        "id": "CkvisiFNp4vO",
        "colab_type": "text"
      },
      "source": [
        "# Assignment 4\n",
        "\n",
        "The assignment 4 contains 3 questions and the due date is May 14th (Tuesday) 23:59PM."
      ]
    },
    {
      "cell_type": "markdown",
      "metadata": {
        "id": "fLoKKCuCp4vS",
        "colab_type": "text"
      },
      "source": [
        "## Question 1 The “Business Decision”\n",
        "\n",
        "We consider the core decision of an MBA admissions committee: *which applicants should we accept in the MBA program?* The school is interested in predicting the MBA participant’s success in the future before offering admission. \n",
        "\n",
        "To make this decision, the committee uses a number of data about the applicants. Let us consider for example the following attributes in evaluating an MBA application (of course in practice many more can be considered):\n",
        "\n",
        "1. GPA\n",
        "2. GMAT score\n",
        "3. Scholarships, fellowships won\n",
        "4. Evidence of Communications skills (debating competition, personal interview score)\n",
        "5. Prior Job Experience\n",
        "6. Organizational Experience\n",
        "7. Other extra curricular achievements\n",
        "\n",
        "Let us assume that this data is converted into a numerical scale from 1-7. For example: a numerical rating may be given to the fellowships based on the prestige and the number of fellowships won. Job experience may be rated on the number of years on the job, with a numerical weighting for the level of the job in the managerial ladder.\n",
        "\n",
        "In particular, theory may suggest that there are really one or two basic factors (like intelligence and leadership skills) that lead to success in a management career. The various attributes are really different manifestations of these basic factors. But maybe there are other **hidden derived variables (factors)** in the data we have: instead of us manually combining raw attributes into meaningful derived ones, which not only is difficult with many data but also dangerous as we impose our biases, let’s get factor analysis to do the job for us - and use our intuition and judgment in the process."
      ]
    },
    {
      "cell_type": "markdown",
      "metadata": {
        "id": "Qssxewkop4vU",
        "colab_type": "text"
      },
      "source": [
        "### Question 1.1 (10 points)\n",
        "Read the data from MBAadmin.csv and check the descriptive statistics of the data. **Implement yourself the principal component analysis** and derive 2 principal components and show how much of the variances can be explained by these 2 principal components."
      ]
    },
    {
      "cell_type": "code",
      "metadata": {
        "id": "loZi8YiUp4vV",
        "colab_type": "code",
        "colab": {}
      },
      "source": [
        "import pandas as pd\n",
        "import numpy as np\n",
        "import warnings\n",
        "warnings.filterwarnings('ignore')\n",
        "\n",
        "mba = pd.read_csv('MBAadmin.csv')"
      ],
      "execution_count": 0,
      "outputs": []
    },
    {
      "cell_type": "code",
      "metadata": {
        "scrolled": true,
        "id": "QvQnzxVyp4ve",
        "colab_type": "code",
        "outputId": "de903b4a-db55-4a3e-b5fd-fce3c6c7d0e2",
        "colab": {
          "base_uri": "https://localhost:8080/",
          "height": 204
        }
      },
      "source": [
        "mba.head()"
      ],
      "execution_count": 2,
      "outputs": [
        {
          "output_type": "execute_result",
          "data": {
            "text/html": [
              "<div>\n",
              "<style scoped>\n",
              "    .dataframe tbody tr th:only-of-type {\n",
              "        vertical-align: middle;\n",
              "    }\n",
              "\n",
              "    .dataframe tbody tr th {\n",
              "        vertical-align: top;\n",
              "    }\n",
              "\n",
              "    .dataframe thead th {\n",
              "        text-align: right;\n",
              "    }\n",
              "</style>\n",
              "<table border=\"1\" class=\"dataframe\">\n",
              "  <thead>\n",
              "    <tr style=\"text-align: right;\">\n",
              "      <th></th>\n",
              "      <th>GPA</th>\n",
              "      <th>GMAT</th>\n",
              "      <th>Fellow</th>\n",
              "      <th>Comm</th>\n",
              "      <th>Job.Ex</th>\n",
              "      <th>Organze</th>\n",
              "      <th>Extra</th>\n",
              "    </tr>\n",
              "  </thead>\n",
              "  <tbody>\n",
              "    <tr>\n",
              "      <th>0</th>\n",
              "      <td>3.0</td>\n",
              "      <td>580</td>\n",
              "      <td>2.0</td>\n",
              "      <td>3.5</td>\n",
              "      <td>5</td>\n",
              "      <td>3.8</td>\n",
              "      <td>4.0</td>\n",
              "    </tr>\n",
              "    <tr>\n",
              "      <th>1</th>\n",
              "      <td>3.2</td>\n",
              "      <td>570</td>\n",
              "      <td>2.0</td>\n",
              "      <td>3.8</td>\n",
              "      <td>6</td>\n",
              "      <td>3.8</td>\n",
              "      <td>3.8</td>\n",
              "    </tr>\n",
              "    <tr>\n",
              "      <th>2</th>\n",
              "      <td>3.7</td>\n",
              "      <td>690</td>\n",
              "      <td>3.0</td>\n",
              "      <td>3.3</td>\n",
              "      <td>3</td>\n",
              "      <td>3.2</td>\n",
              "      <td>3.6</td>\n",
              "    </tr>\n",
              "    <tr>\n",
              "      <th>3</th>\n",
              "      <td>3.9</td>\n",
              "      <td>760</td>\n",
              "      <td>3.0</td>\n",
              "      <td>3.8</td>\n",
              "      <td>5</td>\n",
              "      <td>3.9</td>\n",
              "      <td>3.2</td>\n",
              "    </tr>\n",
              "    <tr>\n",
              "      <th>4</th>\n",
              "      <td>2.8</td>\n",
              "      <td>480</td>\n",
              "      <td>2.0</td>\n",
              "      <td>3.2</td>\n",
              "      <td>6</td>\n",
              "      <td>3.8</td>\n",
              "      <td>3.8</td>\n",
              "    </tr>\n",
              "  </tbody>\n",
              "</table>\n",
              "</div>"
            ],
            "text/plain": [
              "   GPA  GMAT  Fellow  Comm  Job.Ex  Organze  Extra\n",
              "0  3.0   580     2.0   3.5       5      3.8    4.0\n",
              "1  3.2   570     2.0   3.8       6      3.8    3.8\n",
              "2  3.7   690     3.0   3.3       3      3.2    3.6\n",
              "3  3.9   760     3.0   3.8       5      3.9    3.2\n",
              "4  2.8   480     2.0   3.2       6      3.8    3.8"
            ]
          },
          "metadata": {
            "tags": []
          },
          "execution_count": 2
        }
      ]
    },
    {
      "cell_type": "code",
      "metadata": {
        "scrolled": true,
        "id": "hu-Ef2X_p4vk",
        "colab_type": "code",
        "outputId": "50fdf847-5da1-4cac-e005-109d9d25cfb1",
        "colab": {
          "base_uri": "https://localhost:8080/",
          "height": 153
        }
      },
      "source": [
        "M = np.mean(mba.T, axis=1)\n",
        "print(M)"
      ],
      "execution_count": 3,
      "outputs": [
        {
          "output_type": "stream",
          "text": [
            "GPA          3.305\n",
            "GMAT       583.500\n",
            "Fellow       2.450\n",
            "Comm         3.335\n",
            "Job.Ex       4.250\n",
            "Organze      3.200\n",
            "Extra        3.300\n",
            "dtype: float64\n"
          ],
          "name": "stdout"
        }
      ]
    },
    {
      "cell_type": "code",
      "metadata": {
        "scrolled": true,
        "id": "tjg0X__7p4vq",
        "colab_type": "code",
        "outputId": "62ddfb38-3bdd-4be5-be6f-53904c1557a6",
        "colab": {
          "base_uri": "https://localhost:8080/",
          "height": 374
        }
      },
      "source": [
        "C = mba-M\n",
        "print(C)"
      ],
      "execution_count": 4,
      "outputs": [
        {
          "output_type": "stream",
          "text": [
            "      GPA   GMAT  Fellow   Comm  Job.Ex  Organze  Extra\n",
            "0  -0.305   -3.5   -0.45  0.165    0.75      0.6    0.7\n",
            "1  -0.105  -13.5   -0.45  0.465    1.75      0.6    0.5\n",
            "2   0.395  106.5    0.55 -0.035   -1.25      0.0    0.3\n",
            "3   0.595  176.5    0.55  0.465    0.75      0.7   -0.1\n",
            "4  -0.505 -103.5   -0.45 -0.135    1.75      0.6    0.5\n",
            "5   0.095  -63.5    0.05 -0.735   -2.25     -0.7   -0.9\n",
            "6   0.295   86.5    0.55  0.365   -0.25      0.3   -0.4\n",
            "7   0.295  176.5    0.55  0.565    0.75      0.1   -0.1\n",
            "8  -0.505 -203.5   -1.45 -1.335   -1.25     -0.3   -0.2\n",
            "9   0.295  -23.5    0.55 -0.535   -2.25     -2.2   -0.5\n",
            "10 -0.505 -103.5   -0.45 -0.135   -0.25      0.2    0.4\n",
            "11  0.295    6.5    0.95  0.065    0.75      0.5    0.3\n",
            "12  0.495  136.5    1.35  0.465    1.75      0.6    0.4\n",
            "13  0.195   96.5    0.55  0.265    1.75      0.2    0.5\n",
            "14  0.595  116.5    1.25  0.465   -2.25     -1.1   -0.6\n",
            "15 -0.005  -23.5    0.35  0.065    0.75      0.6   -0.6\n",
            "16 -0.505 -143.5   -1.45 -0.035    0.75      0.3    0.5\n",
            "17 -0.805 -153.5   -1.45 -0.235   -1.25     -0.1   -0.4\n",
            "18 -0.805 -163.5   -1.45 -0.535   -2.25     -0.9   -0.8\n",
            "19  0.495   96.5    0.35  0.365    1.75      0.0    0.5\n"
          ],
          "name": "stdout"
        }
      ]
    },
    {
      "cell_type": "code",
      "metadata": {
        "scrolled": false,
        "id": "UhHZHAUHp4vv",
        "colab_type": "code",
        "outputId": "735368de-f983-45a2-ad33-1bad3233088d",
        "colab": {
          "base_uri": "https://localhost:8080/",
          "height": 255
        }
      },
      "source": [
        "V = np.cov(C.T)\n",
        "print(V)"
      ],
      "execution_count": 5,
      "outputs": [
        {
          "output_type": "stream",
          "text": [
            "[[ 2.19447368e-01  5.02447368e+01  3.91842105e-01  1.27184211e-01\n",
            "   1.09210526e-01 -1.05263158e-02  2.63157895e-03]\n",
            " [ 5.02447368e+01  1.42660526e+04  9.27631579e+01  4.56605263e+01\n",
            "   5.96052632e+01  1.64736842e+01  9.84210526e+00]\n",
            " [ 3.91842105e-01  9.27631579e+01  8.19473684e-01  2.59210526e-01\n",
            "   2.50000000e-01  7.36842105e-03  1.00000000e-02]\n",
            " [ 1.27184211e-01  4.56605263e+01  2.59210526e-01  2.39236842e-01\n",
            "   4.43421053e-01  1.70526316e-01  9.84210526e-02]\n",
            " [ 1.09210526e-01  5.96052632e+01  2.50000000e-01  4.43421053e-01\n",
            "   2.30263158e+00  8.94736842e-01  6.00000000e-01]\n",
            " [-1.05263158e-02  1.64736842e+01  7.36842105e-03  1.70526316e-01\n",
            "   8.94736842e-01  5.40000000e-01  2.31052632e-01]\n",
            " [ 2.63157895e-03  9.84210526e+00  1.00000000e-02  9.84210526e-02\n",
            "   6.00000000e-01  2.31052632e-01  2.65263158e-01]]\n"
          ],
          "name": "stdout"
        }
      ]
    },
    {
      "cell_type": "code",
      "metadata": {
        "scrolled": false,
        "id": "zV2hbDJ7p4v1",
        "colab_type": "code",
        "outputId": "d9db002e-bb5e-4890-c7f7-71560566291e",
        "colab": {
          "base_uri": "https://localhost:8080/",
          "height": 306
        }
      },
      "source": [
        "from numpy.linalg import eig\n",
        "\n",
        "values, vectors = eig(V)\n",
        "print(f'Vectors: {vectors} \\n')\n",
        "print(f'Eigenvalues: {values}')"
      ],
      "execution_count": 6,
      "outputs": [
        {
          "output_type": "stream",
          "text": [
            "Vectors: [[ 3.52182669e-03 -5.09143931e-02  2.82598927e-01  9.25183466e-01\n",
            "  -4.98958876e-02 -2.38496315e-01  4.68895552e-02]\n",
            " [ 9.99957901e-01 -3.98033844e-03 -6.68762886e-03 -2.60590696e-03\n",
            "   2.74833430e-03 -3.03809934e-03 -2.32911014e-04]\n",
            " [ 6.50215184e-03 -7.48307220e-02  8.31162755e-01 -2.32935386e-01\n",
            "  -4.18531936e-01  2.17153225e-01  1.64143720e-01]\n",
            " [ 3.20058937e-03  1.13869857e-01 -1.18804656e-01  2.90049368e-01\n",
            "  -2.71225868e-03  9.27484681e-01 -1.68952774e-01]\n",
            " [ 4.17860740e-03  8.77815403e-01  2.60315362e-01 -3.61033596e-02\n",
            "   1.85782369e-01 -1.23205310e-01 -3.32656700e-01]\n",
            " [ 1.15495732e-03  3.82623391e-01 -3.82569433e-01  6.40419888e-02\n",
            "  -7.84171369e-01 -6.55353757e-02  2.89685412e-01]\n",
            " [ 6.90044307e-04  2.48727479e-01  3.19936159e-02  1.53754675e-02\n",
            "   4.15796446e-01  1.27485244e-01  8.64716715e-01]] \n",
            "\n",
            "Eigenvalues: [1.42672538e+04 2.62224187e+00 2.44559826e-01 1.41974479e-02\n",
            " 1.51626763e-01 6.02302398e-02 9.20070444e-02]\n"
          ],
          "name": "stdout"
        }
      ]
    },
    {
      "cell_type": "code",
      "metadata": {
        "scrolled": true,
        "id": "gECpSKsHp4v6",
        "colab_type": "code",
        "colab": {}
      },
      "source": [
        "variance = (values[0]+values[1])/sum(values)"
      ],
      "execution_count": 0,
      "outputs": []
    },
    {
      "cell_type": "code",
      "metadata": {
        "scrolled": false,
        "id": "nPJM8xuJp4v_",
        "colab_type": "code",
        "outputId": "1a131b16-b61f-4aa1-e187-7c68c62f94c2",
        "colab": {
          "base_uri": "https://localhost:8080/",
          "height": 153
        }
      },
      "source": [
        "eig_pairs = [(np.abs(values[i]), vectors[:,i]) for i in range(len(values))]\n",
        "\n",
        "eig_pairs.sort()\n",
        "eig_pairs.reverse()\n",
        "\n",
        "matrix_w = np.hstack((eig_pairs[0][1].reshape(7,1), \n",
        "                      eig_pairs[1][1].reshape(7,1)))\n",
        "\n",
        "print('Matrix W:\\n', matrix_w)"
      ],
      "execution_count": 8,
      "outputs": [
        {
          "output_type": "stream",
          "text": [
            "Matrix W:\n",
            " [[ 3.52182669e-03 -5.09143931e-02]\n",
            " [ 9.99957901e-01 -3.98033844e-03]\n",
            " [ 6.50215184e-03 -7.48307220e-02]\n",
            " [ 3.20058937e-03  1.13869857e-01]\n",
            " [ 4.17860740e-03  8.77815403e-01]\n",
            " [ 1.15495732e-03  3.82623391e-01]\n",
            " [ 6.90044307e-04  2.48727479e-01]]\n"
          ],
          "name": "stdout"
        }
      ]
    },
    {
      "cell_type": "code",
      "metadata": {
        "scrolled": true,
        "id": "AfSrUg-bp4wE",
        "colab_type": "code",
        "outputId": "cc11678f-993c-4c29-c801-f70cf942cf22",
        "colab": {
          "base_uri": "https://localhost:8080/",
          "height": 374
        }
      },
      "source": [
        "Y = C.dot(matrix_w)\n",
        "print(Y)"
      ],
      "execution_count": 9,
      "outputs": [
        {
          "output_type": "stream",
          "text": [
            "             0         1\n",
            "0    -3.499015  1.143967\n",
            "1   -13.492889  2.035819\n",
            "2   106.495356 -1.511811\n",
            "3   176.503603  0.180294\n",
            "4  -103.492429  2.346093\n",
            "5   -63.509851 -2.306297\n",
            "6    86.501168 -0.563071\n",
            "7   176.502173 -0.022619\n",
            "8  -203.512620 -0.469603\n",
            "9   -23.508396 -2.964779\n",
            "10 -103.501317  0.412540\n",
            "11    6.511069  0.819712\n",
            "12  136.514545  1.248651\n",
            "13   96.508937  1.332053\n",
            "14  116.495721 -3.079799\n",
            "15  -23.493132  0.813702\n",
            "16 -143.501452  1.598922\n",
            "17 -153.512168 -0.501309\n",
            "18 -163.518086 -1.779072\n",
            "19   96.508782  1.266607\n"
          ],
          "name": "stdout"
        }
      ]
    },
    {
      "cell_type": "code",
      "metadata": {
        "id": "s9cg4yR_p4wJ",
        "colab_type": "code",
        "outputId": "e5f04f92-d63e-46b8-d1a0-f78d729ac6fe",
        "colab": {
          "base_uri": "https://localhost:8080/",
          "height": 34
        }
      },
      "source": [
        "print(f'The new reduced dataset with the 2 main components explains {round(variance*100,4)}% of the variance.')"
      ],
      "execution_count": 10,
      "outputs": [
        {
          "output_type": "stream",
          "text": [
            "The new reduced dataset with the 2 main components explains 99.9961% of the variance.\n"
          ],
          "name": "stdout"
        }
      ]
    },
    {
      "cell_type": "markdown",
      "metadata": {
        "id": "cf9paEFhp4wQ",
        "colab_type": "text"
      },
      "source": [
        "### Question 1.2 (10 points)\n",
        "\n",
        "Now use the sklearn.decomposition.PCA to perform principal component analysis on the data and explain which number of principal components should be chosen using Elbow method. "
      ]
    },
    {
      "cell_type": "code",
      "metadata": {
        "id": "CebK8gz7p4wR",
        "colab_type": "code",
        "colab": {}
      },
      "source": [
        "X = C.copy()\n",
        "\n",
        "from sklearn.decomposition import PCA\n",
        "pca = PCA(n_components=2)\n",
        "y_pca = pca.fit_transform(X)"
      ],
      "execution_count": 0,
      "outputs": []
    },
    {
      "cell_type": "code",
      "metadata": {
        "scrolled": false,
        "id": "k9a5wMckp4wW",
        "colab_type": "code",
        "outputId": "d95b279e-0447-4ca8-d1fd-016f5850b86c",
        "colab": {
          "base_uri": "https://localhost:8080/",
          "height": 357
        }
      },
      "source": [
        "y_pca"
      ],
      "execution_count": 12,
      "outputs": [
        {
          "output_type": "execute_result",
          "data": {
            "text/plain": [
              "array([[ 3.49901472e+00, -1.14396725e+00],\n",
              "       [ 1.34928886e+01, -2.03581862e+00],\n",
              "       [-1.06495356e+02,  1.51181058e+00],\n",
              "       [-1.76503603e+02, -1.80293966e-01],\n",
              "       [ 1.03492429e+02, -2.34609292e+00],\n",
              "       [ 6.35098509e+01,  2.30629702e+00],\n",
              "       [-8.65011676e+01,  5.63071245e-01],\n",
              "       [-1.76502173e+02,  2.26187652e-02],\n",
              "       [ 2.03512620e+02,  4.69602838e-01],\n",
              "       [ 2.35083957e+01,  2.96477892e+00],\n",
              "       [ 1.03501317e+02, -4.12540010e-01],\n",
              "       [-6.51106883e+00, -8.19711901e-01],\n",
              "       [-1.36514545e+02, -1.24865117e+00],\n",
              "       [-9.65089371e+01, -1.33205302e+00],\n",
              "       [-1.16495721e+02,  3.07979929e+00],\n",
              "       [ 2.34931316e+01, -8.13702413e-01],\n",
              "       [ 1.43501452e+02, -1.59892175e+00],\n",
              "       [ 1.53512168e+02,  5.01309417e-01],\n",
              "       [ 1.63518086e+02,  1.77907210e+00],\n",
              "       [-9.65087823e+01, -1.26660716e+00]])"
            ]
          },
          "metadata": {
            "tags": []
          },
          "execution_count": 12
        }
      ]
    },
    {
      "cell_type": "code",
      "metadata": {
        "id": "2xpVbKYZp4wc",
        "colab_type": "code",
        "colab": {}
      },
      "source": [
        "n_components = np.arange(1,8)\n",
        "\n",
        "data = C.copy()\n",
        "pca1 = PCA(n_components=7)\n",
        "y_pca1 = pca1.fit_transform(data)\n",
        "variances = pca1.explained_variance_ratio_"
      ],
      "execution_count": 0,
      "outputs": []
    },
    {
      "cell_type": "code",
      "metadata": {
        "scrolled": true,
        "id": "kHjqDUjop4wo",
        "colab_type": "code",
        "outputId": "9e23448b-3f2b-4e9a-b80b-9aff7d115a43",
        "colab": {
          "base_uri": "https://localhost:8080/",
          "height": 51
        }
      },
      "source": [
        "variances"
      ],
      "execution_count": 14,
      "outputs": [
        {
          "output_type": "execute_result",
          "data": {
            "text/plain": [
              "array([9.99776821e-01, 1.83753417e-04, 1.71375129e-05, 1.06252349e-05,\n",
              "       6.44738725e-06, 4.22062988e-06, 9.94885178e-07])"
            ]
          },
          "metadata": {
            "tags": []
          },
          "execution_count": 14
        }
      ]
    },
    {
      "cell_type": "code",
      "metadata": {
        "id": "4CkIVwS3p4wx",
        "colab_type": "code",
        "outputId": "442f4aa6-582c-4d85-c513-d3d9516f67a5",
        "colab": {
          "base_uri": "https://localhost:8080/",
          "height": 34
        }
      },
      "source": [
        "n_components"
      ],
      "execution_count": 15,
      "outputs": [
        {
          "output_type": "execute_result",
          "data": {
            "text/plain": [
              "array([1, 2, 3, 4, 5, 6, 7])"
            ]
          },
          "metadata": {
            "tags": []
          },
          "execution_count": 15
        }
      ]
    },
    {
      "cell_type": "code",
      "metadata": {
        "id": "3qRt06T_p4w2",
        "colab_type": "code",
        "colab": {}
      },
      "source": [
        "import matplotlib.pyplot as plt\n",
        "%matplotlib inline"
      ],
      "execution_count": 0,
      "outputs": []
    },
    {
      "cell_type": "code",
      "metadata": {
        "scrolled": true,
        "id": "QfOl8nTcp4xM",
        "colab_type": "code",
        "outputId": "a71b3859-97d4-4b4d-c054-7d04b8e3db47",
        "colab": {
          "base_uri": "https://localhost:8080/",
          "height": 295
        }
      },
      "source": [
        "plt.figure()\n",
        "plt.plot(n_components, np.cumsum(variances), marker='o')\n",
        "plt.plot(2, np.cumsum(variances)[1], color='red', marker='o', label='Elbow')\n",
        "plt.xlabel('Number of Components')\n",
        "plt.ylabel('Cumulative Explained Variance (%)') \n",
        "plt.title('MBA Dataset Explained Variance')\n",
        "plt.legend()\n",
        "plt.show()"
      ],
      "execution_count": 17,
      "outputs": [
        {
          "output_type": "display_data",
          "data": {
            "image/png": "[encoded data removed]",
            "text/plain": [
              "<Figure size 432x288 with 1 Axes>"
            ]
          },
          "metadata": {
            "tags": []
          }
        }
      ]
    },
    {
      "cell_type": "markdown",
      "metadata": {
        "id": "lRaujS00p4xY",
        "colab_type": "text"
      },
      "source": [
        "As it can be seen from the graph above by the lebow method it should be chosen 2 components. This is because the marginal increase in explained variance from 2 to 3 is much less than from 1 to 2 components."
      ]
    },
    {
      "cell_type": "markdown",
      "metadata": {
        "id": "HbnhWtXCp4xZ",
        "colab_type": "text"
      },
      "source": [
        "## Question 2 Customer Segmentation\n",
        "\n",
        "The management team of a large shopping mall would like to understand the types of people who are, or could be, visiting their mall. They have good reasons to believe that there are a few different market segments, and they are considering designing and positioning the shopping mall services better in order to attract mainly a few profitable market segments, or to differentiate their services (e.g. invitations to events, discounts, etc) across market segments.\n",
        "\n",
        "We aim to describe attitudes of people to shopping in a shopping mall using a small dataset. To make these decisions, the management team run a market research survey of a few potential customers. In this case this was a small survey to only a few people, where each person answered six attitudinal questions and a question regarding how often they visit the mall, all on a scale 1-7, as well as one question regarding their household income:\n",
        "\n",
        "| Name        | Name           | Name  |\n",
        "| ------------- |:-------------:| -----:|\n",
        "| V1     | Shopping is fun | 1-7 |\n",
        "| V2      | Shopping is bad for your budget      |  1-7 |\n",
        "| V3 | I combine shopping with eating out      |    1-7 |\n",
        "| V4     | I try to get the best buys while shopping | 1-7 |\n",
        "| V5      | I don’t care about shopping      |  1-7 |\n",
        "| V6 | You can save lot of money by comparing prices      |    1-7 |\n",
        "| Income      | The household income of the respondent      |  Dollars |\n",
        "| Mall.Visits | How often they visit the mall      |    1-7 |\n"
      ]
    },
    {
      "cell_type": "code",
      "metadata": {
        "id": "GG5IkaHxp4xa",
        "colab_type": "code",
        "colab": {}
      },
      "source": [
        "X = pd.read_csv('Mall_Visits.csv')"
      ],
      "execution_count": 0,
      "outputs": []
    },
    {
      "cell_type": "code",
      "metadata": {
        "id": "TcLpeZWip4xh",
        "colab_type": "code",
        "outputId": "46639bf3-e7da-4787-c918-898b0969d390",
        "colab": {
          "base_uri": "https://localhost:8080/",
          "height": 204
        }
      },
      "source": [
        "X.head()"
      ],
      "execution_count": 19,
      "outputs": [
        {
          "output_type": "execute_result",
          "data": {
            "text/html": [
              "<div>\n",
              "<style scoped>\n",
              "    .dataframe tbody tr th:only-of-type {\n",
              "        vertical-align: middle;\n",
              "    }\n",
              "\n",
              "    .dataframe tbody tr th {\n",
              "        vertical-align: top;\n",
              "    }\n",
              "\n",
              "    .dataframe thead th {\n",
              "        text-align: right;\n",
              "    }\n",
              "</style>\n",
              "<table border=\"1\" class=\"dataframe\">\n",
              "  <thead>\n",
              "    <tr style=\"text-align: right;\">\n",
              "      <th></th>\n",
              "      <th>ID</th>\n",
              "      <th>V1</th>\n",
              "      <th>V2</th>\n",
              "      <th>V3</th>\n",
              "      <th>V4</th>\n",
              "      <th>V5</th>\n",
              "      <th>V6</th>\n",
              "      <th>Income</th>\n",
              "      <th>Mall.Visits</th>\n",
              "    </tr>\n",
              "  </thead>\n",
              "  <tbody>\n",
              "    <tr>\n",
              "      <th>0</th>\n",
              "      <td>1</td>\n",
              "      <td>6</td>\n",
              "      <td>4</td>\n",
              "      <td>7</td>\n",
              "      <td>3</td>\n",
              "      <td>2</td>\n",
              "      <td>3</td>\n",
              "      <td>60000</td>\n",
              "      <td>3</td>\n",
              "    </tr>\n",
              "    <tr>\n",
              "      <th>1</th>\n",
              "      <td>2</td>\n",
              "      <td>2</td>\n",
              "      <td>3</td>\n",
              "      <td>1</td>\n",
              "      <td>4</td>\n",
              "      <td>5</td>\n",
              "      <td>4</td>\n",
              "      <td>30000</td>\n",
              "      <td>1</td>\n",
              "    </tr>\n",
              "    <tr>\n",
              "      <th>2</th>\n",
              "      <td>3</td>\n",
              "      <td>7</td>\n",
              "      <td>2</td>\n",
              "      <td>6</td>\n",
              "      <td>4</td>\n",
              "      <td>1</td>\n",
              "      <td>3</td>\n",
              "      <td>70000</td>\n",
              "      <td>3</td>\n",
              "    </tr>\n",
              "    <tr>\n",
              "      <th>3</th>\n",
              "      <td>4</td>\n",
              "      <td>4</td>\n",
              "      <td>6</td>\n",
              "      <td>4</td>\n",
              "      <td>5</td>\n",
              "      <td>3</td>\n",
              "      <td>6</td>\n",
              "      <td>30000</td>\n",
              "      <td>7</td>\n",
              "    </tr>\n",
              "    <tr>\n",
              "      <th>4</th>\n",
              "      <td>5</td>\n",
              "      <td>1</td>\n",
              "      <td>3</td>\n",
              "      <td>2</td>\n",
              "      <td>2</td>\n",
              "      <td>6</td>\n",
              "      <td>4</td>\n",
              "      <td>60000</td>\n",
              "      <td>1</td>\n",
              "    </tr>\n",
              "  </tbody>\n",
              "</table>\n",
              "</div>"
            ],
            "text/plain": [
              "   ID  V1  V2  V3  V4  V5  V6  Income  Mall.Visits\n",
              "0   1   6   4   7   3   2   3   60000            3\n",
              "1   2   2   3   1   4   5   4   30000            1\n",
              "2   3   7   2   6   4   1   3   70000            3\n",
              "3   4   4   6   4   5   3   6   30000            7\n",
              "4   5   1   3   2   2   6   4   60000            1"
            ]
          },
          "metadata": {
            "tags": []
          },
          "execution_count": 19
        }
      ]
    },
    {
      "cell_type": "markdown",
      "metadata": {
        "id": "jUNpXBmWp4xp",
        "colab_type": "text"
      },
      "source": [
        "### Question 2.1 (10 points) \n",
        "\n",
        "Perform customer segmentation using k-Means algorithm by setting k=1. What can we infer from customer segmentation with one cluster? Explain this using the obtained centroid of cluster."
      ]
    },
    {
      "cell_type": "code",
      "metadata": {
        "id": "_jrzESrBp4xr",
        "colab_type": "code",
        "colab": {}
      },
      "source": [
        "from sklearn.preprocessing import StandardScaler\n",
        "from sklearn.cluster import KMeans"
      ],
      "execution_count": 0,
      "outputs": []
    },
    {
      "cell_type": "code",
      "metadata": {
        "id": "GHWouJFep4xv",
        "colab_type": "code",
        "colab": {}
      },
      "source": [
        "scaler = StandardScaler()\n",
        "X_std = scaler.fit_transform(X)"
      ],
      "execution_count": 0,
      "outputs": []
    },
    {
      "cell_type": "code",
      "metadata": {
        "id": "0-r2ltT1p4xz",
        "colab_type": "code",
        "colab": {}
      },
      "source": [
        "clt = KMeans(n_clusters=1, random_state=0, n_jobs=-1)\n",
        "model = clt.fit(X_std)"
      ],
      "execution_count": 0,
      "outputs": []
    },
    {
      "cell_type": "code",
      "metadata": {
        "scrolled": true,
        "id": "B6EVN6vlp4x3",
        "colab_type": "code",
        "outputId": "8e61154f-4d5c-4cdf-c3a9-025f4668b37b",
        "colab": {
          "base_uri": "https://localhost:8080/",
          "height": 51
        }
      },
      "source": [
        "model.labels_"
      ],
      "execution_count": 23,
      "outputs": [
        {
          "output_type": "execute_result",
          "data": {
            "text/plain": [
              "array([0, 0, 0, 0, 0, 0, 0, 0, 0, 0, 0, 0, 0, 0, 0, 0, 0, 0, 0, 0, 0, 0,\n",
              "       0, 0, 0, 0, 0, 0, 0, 0, 0, 0, 0, 0, 0, 0, 0, 0, 0, 0], dtype=int32)"
            ]
          },
          "metadata": {
            "tags": []
          },
          "execution_count": 23
        }
      ]
    },
    {
      "cell_type": "code",
      "metadata": {
        "id": "ToPlbRjap4x_",
        "colab_type": "code",
        "outputId": "b8ce4474-ce61-49cc-850d-4bd0d33c032d",
        "colab": {
          "base_uri": "https://localhost:8080/",
          "height": 68
        }
      },
      "source": [
        "model.cluster_centers_"
      ],
      "execution_count": 24,
      "outputs": [
        {
          "output_type": "execute_result",
          "data": {
            "text/plain": [
              "array([[ 8.88178420e-17, -9.43689571e-17,  3.27515792e-16,\n",
              "        -8.04911693e-17,  2.27595720e-16, -6.66133815e-17,\n",
              "         2.05391260e-16,  0.00000000e+00, -1.11022302e-17]])"
            ]
          },
          "metadata": {
            "tags": []
          },
          "execution_count": 24
        }
      ]
    },
    {
      "cell_type": "markdown",
      "metadata": {
        "id": "oPiejGCfp4yF",
        "colab_type": "text"
      },
      "source": [
        "### Question 2.2 (10 points)\n",
        "\n",
        "Now perform customer segmentation by setting the number of k to be 3. Explain the obtained clusters. Check the distribution of each feature across the clusters and see whether these features are statisically significantly different from each other. "
      ]
    },
    {
      "cell_type": "code",
      "metadata": {
        "id": "RHfaw61pp4yG",
        "colab_type": "code",
        "colab": {}
      },
      "source": [
        "clt = KMeans(n_clusters=3, random_state=0, n_jobs=-1)\n",
        "model = clt.fit(X_std)"
      ],
      "execution_count": 0,
      "outputs": []
    },
    {
      "cell_type": "code",
      "metadata": {
        "id": "PWgZ6eJ6p4yK",
        "colab_type": "code",
        "outputId": "37330b81-0d89-4ae3-ed12-00ab39e8a048",
        "colab": {
          "base_uri": "https://localhost:8080/",
          "height": 51
        }
      },
      "source": [
        "model.labels_"
      ],
      "execution_count": 26,
      "outputs": [
        {
          "output_type": "execute_result",
          "data": {
            "text/plain": [
              "array([1, 2, 1, 0, 2, 1, 1, 1, 2, 0, 2, 1, 2, 0, 1, 0, 1, 0, 0, 2, 1, 2,\n",
              "       1, 0, 2, 1, 1, 1, 2, 0, 2, 1, 2, 0, 1, 0, 1, 0, 0, 2], dtype=int32)"
            ]
          },
          "metadata": {
            "tags": []
          },
          "execution_count": 26
        }
      ]
    },
    {
      "cell_type": "code",
      "metadata": {
        "id": "VuypfG5zp4yO",
        "colab_type": "code",
        "outputId": "e7e99bf8-54a4-4f25-fa85-fc98dc486137",
        "colab": {
          "base_uri": "https://localhost:8080/",
          "height": 170
        }
      },
      "source": [
        "model.cluster_centers_"
      ],
      "execution_count": 27,
      "outputs": [
        {
          "output_type": "execute_result",
          "data": {
            "text/plain": [
              "array([[ 2.59888849e-01, -1.89051145e-01,  1.26081448e+00,\n",
              "        -3.14384524e-01,  1.28390102e+00,  2.91234686e-02,\n",
              "         1.13122543e+00, -8.92156863e-01,  1.17170020e+00],\n",
              "       [-1.62430531e-01,  1.02627765e+00, -3.45511660e-01,\n",
              "         1.04511612e+00, -6.58843944e-01, -9.17389259e-01,\n",
              "        -3.25655806e-01,  8.23529412e-01, -2.98372438e-17],\n",
              "       [-4.33148082e-02, -1.17931905e+00, -8.00132264e-01,\n",
              "        -1.07910364e+00, -4.05442427e-01,  1.19406221e+00,\n",
              "        -6.97017690e-01, -2.05882353e-01, -1.17170020e+00]])"
            ]
          },
          "metadata": {
            "tags": []
          },
          "execution_count": 27
        }
      ]
    },
    {
      "cell_type": "markdown",
      "metadata": {
        "id": "NW6sdGuep4yT",
        "colab_type": "text"
      },
      "source": [
        "### Question 2.3 (10 points)\n",
        "\n",
        "Now perform customer segmentation by setting the number of k using the Elbow method and Silhouette score, respectively. Explain what would be the k you get from two methods."
      ]
    },
    {
      "cell_type": "code",
      "metadata": {
        "id": "fcQepgxNp4yU",
        "colab_type": "code",
        "outputId": "db162cd2-4dcb-468f-8dec-0cba25b12f49",
        "colab": {
          "base_uri": "https://localhost:8080/",
          "height": 376
        }
      },
      "source": [
        "from yellowbrick.cluster import KElbowVisualizer\n",
        "\n",
        "model = KMeans()\n",
        "visualizer = KElbowVisualizer(model, k=(2,12))\n",
        "\n",
        "visualizer.fit(X)   \n",
        "visualizer.poof()  "
      ],
      "execution_count": 28,
      "outputs": [
        {
          "output_type": "display_data",
          "data": {
            "image/png": "[encoded data removed]",
            "text/plain": [
              "<Figure size 576x396 with 2 Axes>"
            ]
          },
          "metadata": {
            "tags": []
          }
        }
      ]
    },
    {
      "cell_type": "code",
      "metadata": {
        "scrolled": true,
        "id": "CFoGE_Wlp4ya",
        "colab_type": "code",
        "outputId": "975747d1-0ce4-46fb-9075-65aeb01264f3",
        "colab": {
          "base_uri": "https://localhost:8080/",
          "height": 204
        }
      },
      "source": [
        "from sklearn.metrics import silhouette_samples, silhouette_score\n",
        "range_n_clusters = [2, 3, 4, 5, 6, 7, 8, 9, 10, 11, 12]\n",
        "\n",
        "for n_clusters in range_n_clusters:\n",
        "    clusterer = KMeans(n_clusters=n_clusters, random_state=10)\n",
        "    cluster_labels = clusterer.fit_predict(X)\n",
        "    silhouette_avg = silhouette_score(X, cluster_labels)\n",
        "    print(\"For n_clusters =\", n_clusters, \"The average silhouette_score is :\", silhouette_avg)"
      ],
      "execution_count": 30,
      "outputs": [
        {
          "output_type": "stream",
          "text": [
            "For n_clusters = 2 The average silhouette_score is : 0.6831170918516033\n",
            "For n_clusters = 3 The average silhouette_score is : 0.632690586868599\n",
            "For n_clusters = 4 The average silhouette_score is : 0.646857953328938\n",
            "For n_clusters = 5 The average silhouette_score is : 0.6789992858141238\n",
            "For n_clusters = 6 The average silhouette_score is : 0.6881010819756159\n",
            "For n_clusters = 7 The average silhouette_score is : 0.765189856691537\n",
            "For n_clusters = 8 The average silhouette_score is : 0.8126052083141818\n",
            "For n_clusters = 9 The average silhouette_score is : 0.8705608580666275\n",
            "For n_clusters = 10 The average silhouette_score is : 0.9301424588149227\n",
            "For n_clusters = 11 The average silhouette_score is : 0.9965424508175575\n",
            "For n_clusters = 12 The average silhouette_score is : 0.891132301732419\n"
          ],
          "name": "stdout"
        }
      ]
    },
    {
      "cell_type": "markdown",
      "metadata": {
        "id": "z7NqnVUEp4yi",
        "colab_type": "text"
      },
      "source": [
        "## Question 3 Birds of a feather laugh together\n",
        "\n",
        "Jester is a research project from the UC Berkeley Laboratory for Automation Science and Engineering. Users are asked to rate the jokes they read and may see more similar jokes. The dataset `jester_dataset.zip`, when unzipped, they are in Excel (.xls) format that contains ratings from 23,500 users who have rated 36 or more jokes. Ratings are real values ranging from -10.00 to +10.00 (the value \"99\" corresponds to \"null\" = \"not rated\"). The text of the jokes is given `jester_dataset_joke_text.zip`. The first column gives the number of jokes rated by that user. The next 100 columns give the ratings for jokes 01 - 100."
      ]
    },
    {
      "cell_type": "code",
      "metadata": {
        "id": "ujSqsBbup4yj",
        "colab_type": "code",
        "colab": {}
      },
      "source": [
        "X = pd.read_excel('jester-data-2.xls', header=None)"
      ],
      "execution_count": 0,
      "outputs": []
    },
    {
      "cell_type": "code",
      "metadata": {
        "id": "m76Cf-KZp4ym",
        "colab_type": "code",
        "outputId": "e3eb8989-2dac-43d4-9852-03f0b30f493d",
        "colab": {
          "base_uri": "https://localhost:8080/",
          "height": 233
        }
      },
      "source": [
        "X.head()"
      ],
      "execution_count": 197,
      "outputs": [
        {
          "output_type": "execute_result",
          "data": {
            "text/html": [
              "<div>\n",
              "<style scoped>\n",
              "    .dataframe tbody tr th:only-of-type {\n",
              "        vertical-align: middle;\n",
              "    }\n",
              "\n",
              "    .dataframe tbody tr th {\n",
              "        vertical-align: top;\n",
              "    }\n",
              "\n",
              "    .dataframe thead th {\n",
              "        text-align: right;\n",
              "    }\n",
              "</style>\n",
              "<table border=\"1\" class=\"dataframe\">\n",
              "  <thead>\n",
              "    <tr style=\"text-align: right;\">\n",
              "      <th></th>\n",
              "      <th>0</th>\n",
              "      <th>1</th>\n",
              "      <th>2</th>\n",
              "      <th>3</th>\n",
              "      <th>4</th>\n",
              "      <th>5</th>\n",
              "      <th>6</th>\n",
              "      <th>7</th>\n",
              "      <th>8</th>\n",
              "      <th>9</th>\n",
              "      <th>...</th>\n",
              "      <th>91</th>\n",
              "      <th>92</th>\n",
              "      <th>93</th>\n",
              "      <th>94</th>\n",
              "      <th>95</th>\n",
              "      <th>96</th>\n",
              "      <th>97</th>\n",
              "      <th>98</th>\n",
              "      <th>99</th>\n",
              "      <th>100</th>\n",
              "    </tr>\n",
              "  </thead>\n",
              "  <tbody>\n",
              "    <tr>\n",
              "      <th>0</th>\n",
              "      <td>50</td>\n",
              "      <td>99.00</td>\n",
              "      <td>8.11</td>\n",
              "      <td>99.00</td>\n",
              "      <td>99.0</td>\n",
              "      <td>-2.28</td>\n",
              "      <td>-4.22</td>\n",
              "      <td>5.49</td>\n",
              "      <td>-2.62</td>\n",
              "      <td>99.00</td>\n",
              "      <td>...</td>\n",
              "      <td>99.00</td>\n",
              "      <td>99.0</td>\n",
              "      <td>99.00</td>\n",
              "      <td>99.00</td>\n",
              "      <td>99.00</td>\n",
              "      <td>-5.92</td>\n",
              "      <td>99.0</td>\n",
              "      <td>99.00</td>\n",
              "      <td>99.00</td>\n",
              "      <td>99.00</td>\n",
              "    </tr>\n",
              "    <tr>\n",
              "      <th>1</th>\n",
              "      <td>100</td>\n",
              "      <td>-4.37</td>\n",
              "      <td>-3.88</td>\n",
              "      <td>0.73</td>\n",
              "      <td>-3.2</td>\n",
              "      <td>-6.41</td>\n",
              "      <td>1.17</td>\n",
              "      <td>7.82</td>\n",
              "      <td>-4.76</td>\n",
              "      <td>-6.41</td>\n",
              "      <td>...</td>\n",
              "      <td>5.73</td>\n",
              "      <td>-6.7</td>\n",
              "      <td>1.99</td>\n",
              "      <td>2.62</td>\n",
              "      <td>-0.49</td>\n",
              "      <td>3.45</td>\n",
              "      <td>3.2</td>\n",
              "      <td>-0.53</td>\n",
              "      <td>-0.53</td>\n",
              "      <td>-2.96</td>\n",
              "    </tr>\n",
              "    <tr>\n",
              "      <th>2</th>\n",
              "      <td>42</td>\n",
              "      <td>99.00</td>\n",
              "      <td>99.00</td>\n",
              "      <td>99.00</td>\n",
              "      <td>99.0</td>\n",
              "      <td>0.73</td>\n",
              "      <td>99.00</td>\n",
              "      <td>5.53</td>\n",
              "      <td>3.25</td>\n",
              "      <td>99.00</td>\n",
              "      <td>...</td>\n",
              "      <td>99.00</td>\n",
              "      <td>99.0</td>\n",
              "      <td>99.00</td>\n",
              "      <td>99.00</td>\n",
              "      <td>3.16</td>\n",
              "      <td>99.00</td>\n",
              "      <td>99.0</td>\n",
              "      <td>99.00</td>\n",
              "      <td>99.00</td>\n",
              "      <td>99.00</td>\n",
              "    </tr>\n",
              "    <tr>\n",
              "      <th>3</th>\n",
              "      <td>65</td>\n",
              "      <td>0.34</td>\n",
              "      <td>-6.55</td>\n",
              "      <td>2.86</td>\n",
              "      <td>99.0</td>\n",
              "      <td>-3.64</td>\n",
              "      <td>1.12</td>\n",
              "      <td>5.34</td>\n",
              "      <td>2.33</td>\n",
              "      <td>99.00</td>\n",
              "      <td>...</td>\n",
              "      <td>99.00</td>\n",
              "      <td>99.0</td>\n",
              "      <td>99.00</td>\n",
              "      <td>99.00</td>\n",
              "      <td>99.00</td>\n",
              "      <td>99.00</td>\n",
              "      <td>99.0</td>\n",
              "      <td>99.00</td>\n",
              "      <td>99.00</td>\n",
              "      <td>99.00</td>\n",
              "    </tr>\n",
              "    <tr>\n",
              "      <th>4</th>\n",
              "      <td>37</td>\n",
              "      <td>99.00</td>\n",
              "      <td>99.00</td>\n",
              "      <td>99.00</td>\n",
              "      <td>99.0</td>\n",
              "      <td>9.13</td>\n",
              "      <td>99.00</td>\n",
              "      <td>-9.32</td>\n",
              "      <td>-2.04</td>\n",
              "      <td>99.00</td>\n",
              "      <td>...</td>\n",
              "      <td>99.00</td>\n",
              "      <td>99.0</td>\n",
              "      <td>99.00</td>\n",
              "      <td>99.00</td>\n",
              "      <td>99.00</td>\n",
              "      <td>99.00</td>\n",
              "      <td>99.0</td>\n",
              "      <td>99.00</td>\n",
              "      <td>99.00</td>\n",
              "      <td>99.00</td>\n",
              "    </tr>\n",
              "  </tbody>\n",
              "</table>\n",
              "<p>5 rows × 101 columns</p>\n",
              "</div>"
            ],
            "text/plain": [
              "   0      1      2      3     4     5      6     7     8      9    ...    91   \\\n",
              "0   50  99.00   8.11  99.00  99.0 -2.28  -4.22  5.49 -2.62  99.00  ...  99.00   \n",
              "1  100  -4.37  -3.88   0.73  -3.2 -6.41   1.17  7.82 -4.76  -6.41  ...   5.73   \n",
              "2   42  99.00  99.00  99.00  99.0  0.73  99.00  5.53  3.25  99.00  ...  99.00   \n",
              "3   65   0.34  -6.55   2.86  99.0 -3.64   1.12  5.34  2.33  99.00  ...  99.00   \n",
              "4   37  99.00  99.00  99.00  99.0  9.13  99.00 -9.32 -2.04  99.00  ...  99.00   \n",
              "\n",
              "    92     93     94     95     96    97     98     99     100  \n",
              "0  99.0  99.00  99.00  99.00  -5.92  99.0  99.00  99.00  99.00  \n",
              "1  -6.7   1.99   2.62  -0.49   3.45   3.2  -0.53  -0.53  -2.96  \n",
              "2  99.0  99.00  99.00   3.16  99.00  99.0  99.00  99.00  99.00  \n",
              "3  99.0  99.00  99.00  99.00  99.00  99.0  99.00  99.00  99.00  \n",
              "4  99.0  99.00  99.00  99.00  99.00  99.0  99.00  99.00  99.00  \n",
              "\n",
              "[5 rows x 101 columns]"
            ]
          },
          "metadata": {
            "tags": []
          },
          "execution_count": 197
        }
      ]
    },
    {
      "cell_type": "code",
      "metadata": {
        "id": "h8JNv7IjmEm7",
        "colab_type": "code",
        "colab": {}
      },
      "source": [
        "#X_user = pd.DataFrame(X[0])\n",
        "X_jokes = X.iloc[:,1:]\n",
        "X_jokes.replace(99,np.nan, inplace=True)"
      ],
      "execution_count": 0,
      "outputs": []
    },
    {
      "cell_type": "code",
      "metadata": {
        "id": "ZCpVB_OAetqz",
        "colab_type": "code",
        "colab": {}
      },
      "source": [
        "from sklearn.preprocessing import StandardScaler\n",
        "\n",
        "std = StandardScaler()\n",
        "\n",
        "X_std = pd.DataFrame(std.fit_transform(X_jokes), columns=np.arange(1,101))"
      ],
      "execution_count": 0,
      "outputs": []
    },
    {
      "cell_type": "code",
      "metadata": {
        "id": "AZFqWXnmknDP",
        "colab_type": "code",
        "colab": {}
      },
      "source": [
        "X_std.replace(np.nan,0, inplace=True)\n",
        "#X = X_std.set_index(X_user[0])"
      ],
      "execution_count": 0,
      "outputs": []
    },
    {
      "cell_type": "markdown",
      "metadata": {
        "id": "yg74r13Lp4yr",
        "colab_type": "text"
      },
      "source": [
        "### Question 3.1 (10 points) \n",
        "\n",
        "Build a user-based collaborative filtering and provide a list of top 5 jokes for the first user. Check the text of jokes to see if the recommendations are sensible. \n",
        "\n",
        "Done with the help of the following tutorial: https://medium.com/@sam.mail2me/recommendation-systems-collaborative-filtering-just-with-numpy-and-pandas-a-z-fa9868a95da2"
      ]
    },
    {
      "cell_type": "code",
      "metadata": {
        "id": "KBEPn3ZHp4ys",
        "colab_type": "code",
        "colab": {}
      },
      "source": [
        "allusers = X_std.values\n",
        "user0 = allusers[0]\n",
        "denominator1 = np.sqrt(sum(np.square(x) for x in user0))"
      ],
      "execution_count": 0,
      "outputs": []
    },
    {
      "cell_type": "code",
      "metadata": {
        "id": "Cdm4gZ2Hiu8W",
        "colab_type": "code",
        "colab": {}
      },
      "source": [
        "cosinesimilarity = [(0,1)]\n",
        "i = 1"
      ],
      "execution_count": 0,
      "outputs": []
    },
    {
      "cell_type": "code",
      "metadata": {
        "id": "8_u8RwLdi8c0",
        "colab_type": "code",
        "colab": {}
      },
      "source": [
        "for user in allusers[1:]:\n",
        "  numerator = [x*y for x,y in zip(user0, user)]\n",
        "  denominator2 = np.sqrt(sum([np.square(x) for x in user]))\n",
        "  costheta = sum(numerator) / (denominator1 * denominator2)\n",
        "  cosinesimilarity.append((X_std.index[i], costheta))\n",
        "  i += 1"
      ],
      "execution_count": 0,
      "outputs": []
    },
    {
      "cell_type": "code",
      "metadata": {
        "id": "J46_o6KGkAZh",
        "colab_type": "code",
        "colab": {}
      },
      "source": [
        "cosinesimilarity.sort(key=lambda x: x[1], reverse=True)"
      ],
      "execution_count": 0,
      "outputs": []
    },
    {
      "cell_type": "code",
      "metadata": {
        "id": "NDhksY7pkJS1",
        "colab_type": "code",
        "colab": {
          "base_uri": "https://localhost:8080/",
          "height": 102
        },
        "outputId": "38c121ae-c2b0-4722-f10d-7b0b1af99d30"
      },
      "source": [
        "similar5users = cosinesimilarity[0:5]\n",
        "similar5users"
      ],
      "execution_count": 206,
      "outputs": [
        {
          "output_type": "execute_result",
          "data": {
            "text/plain": [
              "[(0, 1),\n",
              " (3931, 0.40697082142040164),\n",
              " (17438, 0.4066215415413228),\n",
              " (1804, 0.39219182907137934),\n",
              " (15620, 0.38526728652331527)]"
            ]
          },
          "metadata": {
            "tags": []
          },
          "execution_count": 206
        }
      ]
    },
    {
      "cell_type": "code",
      "metadata": {
        "id": "ZfB8Ic5orNlK",
        "colab_type": "code",
        "colab": {}
      },
      "source": [
        "top5users = pd.DataFrame()\n",
        "\n",
        "for user in similar5users:\n",
        "  top5users = top5users.append(X_std.loc[user[0]])\n",
        "  \n",
        "top5users['costheta'] = [user[1] for user in similar5users]\n",
        "\n",
        "all_values = top5users.values"
      ],
      "execution_count": 0,
      "outputs": []
    },
    {
      "cell_type": "code",
      "metadata": {
        "id": "EPQa0lmcvykW",
        "colab_type": "code",
        "colab": {
          "base_uri": "https://localhost:8080/",
          "height": 233
        },
        "outputId": "423183a4-81b3-4731-9670-257db71e0400"
      },
      "source": [
        "top5users"
      ],
      "execution_count": 208,
      "outputs": [
        {
          "output_type": "execute_result",
          "data": {
            "text/html": [
              "<div>\n",
              "<style scoped>\n",
              "    .dataframe tbody tr th:only-of-type {\n",
              "        vertical-align: middle;\n",
              "    }\n",
              "\n",
              "    .dataframe tbody tr th {\n",
              "        vertical-align: top;\n",
              "    }\n",
              "\n",
              "    .dataframe thead th {\n",
              "        text-align: right;\n",
              "    }\n",
              "</style>\n",
              "<table border=\"1\" class=\"dataframe\">\n",
              "  <thead>\n",
              "    <tr style=\"text-align: right;\">\n",
              "      <th></th>\n",
              "      <th>1</th>\n",
              "      <th>2</th>\n",
              "      <th>3</th>\n",
              "      <th>4</th>\n",
              "      <th>5</th>\n",
              "      <th>6</th>\n",
              "      <th>7</th>\n",
              "      <th>8</th>\n",
              "      <th>9</th>\n",
              "      <th>10</th>\n",
              "      <th>...</th>\n",
              "      <th>92</th>\n",
              "      <th>93</th>\n",
              "      <th>94</th>\n",
              "      <th>95</th>\n",
              "      <th>96</th>\n",
              "      <th>97</th>\n",
              "      <th>98</th>\n",
              "      <th>99</th>\n",
              "      <th>100</th>\n",
              "      <th>costheta</th>\n",
              "    </tr>\n",
              "  </thead>\n",
              "  <tbody>\n",
              "    <tr>\n",
              "      <th>0</th>\n",
              "      <td>0.0</td>\n",
              "      <td>1.414438</td>\n",
              "      <td>0.0</td>\n",
              "      <td>0.0</td>\n",
              "      <td>-0.454627</td>\n",
              "      <td>-1.044665</td>\n",
              "      <td>1.068536</td>\n",
              "      <td>-0.385514</td>\n",
              "      <td>0.0</td>\n",
              "      <td>-0.630389</td>\n",
              "      <td>...</td>\n",
              "      <td>0.0</td>\n",
              "      <td>0.0</td>\n",
              "      <td>0.0</td>\n",
              "      <td>0.0</td>\n",
              "      <td>-1.509023</td>\n",
              "      <td>0.0</td>\n",
              "      <td>0.0</td>\n",
              "      <td>0.000000</td>\n",
              "      <td>0.0</td>\n",
              "      <td>1.000000</td>\n",
              "    </tr>\n",
              "    <tr>\n",
              "      <th>3931</th>\n",
              "      <td>0.0</td>\n",
              "      <td>0.000000</td>\n",
              "      <td>0.0</td>\n",
              "      <td>0.0</td>\n",
              "      <td>0.152940</td>\n",
              "      <td>0.000000</td>\n",
              "      <td>-1.585671</td>\n",
              "      <td>0.421018</td>\n",
              "      <td>0.0</td>\n",
              "      <td>0.000000</td>\n",
              "      <td>...</td>\n",
              "      <td>0.0</td>\n",
              "      <td>0.0</td>\n",
              "      <td>0.0</td>\n",
              "      <td>0.0</td>\n",
              "      <td>0.004501</td>\n",
              "      <td>0.0</td>\n",
              "      <td>0.0</td>\n",
              "      <td>-1.623301</td>\n",
              "      <td>0.0</td>\n",
              "      <td>0.406971</td>\n",
              "    </tr>\n",
              "    <tr>\n",
              "      <th>17438</th>\n",
              "      <td>0.0</td>\n",
              "      <td>0.000000</td>\n",
              "      <td>0.0</td>\n",
              "      <td>0.0</td>\n",
              "      <td>-1.523567</td>\n",
              "      <td>0.476759</td>\n",
              "      <td>-1.108771</td>\n",
              "      <td>-0.898208</td>\n",
              "      <td>0.0</td>\n",
              "      <td>-1.928414</td>\n",
              "      <td>...</td>\n",
              "      <td>0.0</td>\n",
              "      <td>0.0</td>\n",
              "      <td>0.0</td>\n",
              "      <td>0.0</td>\n",
              "      <td>-2.126327</td>\n",
              "      <td>0.0</td>\n",
              "      <td>0.0</td>\n",
              "      <td>0.000000</td>\n",
              "      <td>0.0</td>\n",
              "      <td>0.406622</td>\n",
              "    </tr>\n",
              "    <tr>\n",
              "      <th>1804</th>\n",
              "      <td>0.0</td>\n",
              "      <td>0.000000</td>\n",
              "      <td>0.0</td>\n",
              "      <td>0.0</td>\n",
              "      <td>1.314913</td>\n",
              "      <td>0.000000</td>\n",
              "      <td>-0.771190</td>\n",
              "      <td>-1.271078</td>\n",
              "      <td>0.0</td>\n",
              "      <td>0.000000</td>\n",
              "      <td>...</td>\n",
              "      <td>0.0</td>\n",
              "      <td>0.0</td>\n",
              "      <td>0.0</td>\n",
              "      <td>0.0</td>\n",
              "      <td>0.000000</td>\n",
              "      <td>0.0</td>\n",
              "      <td>0.0</td>\n",
              "      <td>0.000000</td>\n",
              "      <td>0.0</td>\n",
              "      <td>0.392192</td>\n",
              "    </tr>\n",
              "    <tr>\n",
              "      <th>15620</th>\n",
              "      <td>0.0</td>\n",
              "      <td>0.000000</td>\n",
              "      <td>0.0</td>\n",
              "      <td>0.0</td>\n",
              "      <td>0.401663</td>\n",
              "      <td>0.000000</td>\n",
              "      <td>-1.473144</td>\n",
              "      <td>-1.842540</td>\n",
              "      <td>0.0</td>\n",
              "      <td>0.000000</td>\n",
              "      <td>...</td>\n",
              "      <td>0.0</td>\n",
              "      <td>0.0</td>\n",
              "      <td>0.0</td>\n",
              "      <td>0.0</td>\n",
              "      <td>0.000000</td>\n",
              "      <td>0.0</td>\n",
              "      <td>0.0</td>\n",
              "      <td>0.000000</td>\n",
              "      <td>0.0</td>\n",
              "      <td>0.385267</td>\n",
              "    </tr>\n",
              "  </tbody>\n",
              "</table>\n",
              "<p>5 rows × 101 columns</p>\n",
              "</div>"
            ],
            "text/plain": [
              "         1         2    3    4         5         6         7         8    9  \\\n",
              "0      0.0  1.414438  0.0  0.0 -0.454627 -1.044665  1.068536 -0.385514  0.0   \n",
              "3931   0.0  0.000000  0.0  0.0  0.152940  0.000000 -1.585671  0.421018  0.0   \n",
              "17438  0.0  0.000000  0.0  0.0 -1.523567  0.476759 -1.108771 -0.898208  0.0   \n",
              "1804   0.0  0.000000  0.0  0.0  1.314913  0.000000 -0.771190 -1.271078  0.0   \n",
              "15620  0.0  0.000000  0.0  0.0  0.401663  0.000000 -1.473144 -1.842540  0.0   \n",
              "\n",
              "             10  ...   92   93   94   95        96   97   98        99  100  \\\n",
              "0     -0.630389  ...  0.0  0.0  0.0  0.0 -1.509023  0.0  0.0  0.000000  0.0   \n",
              "3931   0.000000  ...  0.0  0.0  0.0  0.0  0.004501  0.0  0.0 -1.623301  0.0   \n",
              "17438 -1.928414  ...  0.0  0.0  0.0  0.0 -2.126327  0.0  0.0  0.000000  0.0   \n",
              "1804   0.000000  ...  0.0  0.0  0.0  0.0  0.000000  0.0  0.0  0.000000  0.0   \n",
              "15620  0.000000  ...  0.0  0.0  0.0  0.0  0.000000  0.0  0.0  0.000000  0.0   \n",
              "\n",
              "       costheta  \n",
              "0      1.000000  \n",
              "3931   0.406971  \n",
              "17438  0.406622  \n",
              "1804   0.392192  \n",
              "15620  0.385267  \n",
              "\n",
              "[5 rows x 101 columns]"
            ]
          },
          "metadata": {
            "tags": []
          },
          "execution_count": 208
        }
      ]
    },
    {
      "cell_type": "code",
      "metadata": {
        "id": "sZPQOq5Yq7MQ",
        "colab_type": "code",
        "colab": {}
      },
      "source": [
        "denominator = sum([x[1] for x in similar5users])\n",
        "\n",
        "inx = 0\n",
        "values = []\n",
        "\n",
        "for x in top5users.loc[0]:\n",
        "  totalsum = 0\n",
        "  if x == 0.0:\n",
        "    for v in range(1,5):\n",
        "      totalsum += all_values[v-1][inx]*all_values[v-1][100]\n",
        "    top5users.loc[0][inx+1] = totalsum / denominator\n",
        "  inx += 1"
      ],
      "execution_count": 0,
      "outputs": []
    },
    {
      "cell_type": "code",
      "metadata": {
        "id": "pwMvZ0OtwPIn",
        "colab_type": "code",
        "colab": {
          "base_uri": "https://localhost:8080/",
          "height": 102
        },
        "outputId": "dbf2ace4-3327-453f-a1a7-64a8663f5f0f"
      },
      "source": [
        "toprecommend = []\n",
        "\n",
        "for inx, x in enumerate(top5users.loc[0].values):\n",
        "  if x >0.0:\n",
        "    toprecommend.append((inx,x))\n",
        "    \n",
        "toprecommend.sort(key=lambda x: x[1], reverse=True)\n",
        "\n",
        "toprecommend[:5]"
      ],
      "execution_count": 211,
      "outputs": [
        {
          "output_type": "execute_result",
          "data": {
            "text/plain": [
              "[(1, 1.414437756097559),\n",
              " (47, 1.1526326275543874),\n",
              " (6, 1.0685361823219193),\n",
              " (30, 1.0283225801237028),\n",
              " (100, 1.0)]"
            ]
          },
          "metadata": {
            "tags": []
          },
          "execution_count": 211
        }
      ]
    },
    {
      "cell_type": "markdown",
      "metadata": {
        "id": "bldPl09wp4yw",
        "colab_type": "text"
      },
      "source": [
        "### Question 3.2 (10 points) \n",
        "\n",
        "Build a item-based collaborative filtering and provide a list of top 5 jokes for the first user. Check the text of jokes to see if the recommendations are sensible.\n",
        "\n",
        "https://stackabuse.com/creating-a-simple-recommender-system-in-python-using-pandas/\n",
        "https://towardsdatascience.com/prototyping-a-recommender-system-step-by-step-part-1-knn-item-based-collaborative-filtering-637969614ea\n",
        "https://github.com/KevinLiao159/MyDataSciencePortfolio/blob/master/movie_recommender/movie_recommendation_using_KNN.ipynb"
      ]
    },
    {
      "cell_type": "code",
      "metadata": {
        "id": "HAMgyABxp4yx",
        "colab_type": "code",
        "colab": {}
      },
      "source": [
        ""
      ],
      "execution_count": 0,
      "outputs": []
    },
    {
      "cell_type": "markdown",
      "metadata": {
        "id": "juabPfGBp4y7",
        "colab_type": "text"
      },
      "source": [
        "### Question 3.3 (20 points) \n",
        "\n",
        "Now build a recommendation system using matrix factorization (singular value decomposition). Get a list of top 5 jokes for the first user. Explain whether model-based recoomendation approach is better than neighborhood-based approach. Write a function that takes the parameter of user_id and return the text of recommended jokes)\n",
        "\n",
        "https://www.analyticsvidhya.com/blog/2018/06/comprehensive-guide-recommendation-engine-python/"
      ]
    },
    {
      "cell_type": "code",
      "metadata": {
        "id": "Xyk97Zkep4y8",
        "colab_type": "code",
        "colab": {}
      },
      "source": [
        ""
      ],
      "execution_count": 0,
      "outputs": []
    },
    {
      "cell_type": "code",
      "metadata": {
        "id": "KTdiVPFMp4zM",
        "colab_type": "code",
        "colab": {}
      },
      "source": [
        ""
      ],
      "execution_count": 0,
      "outputs": []
    }
  ]
}