{
 "cells": [
  {
   "cell_type": "markdown",
   "metadata": {},
   "source": [
    "# Assignment 4\n",
    "\n",
    "The assignment 4 contains 3 questions and the due date is May 14th (Tuesday) 23:59PM."
   ]
  },
  {
   "cell_type": "markdown",
   "metadata": {},
   "source": [
    "## Question 1 The “Business Decision”\n",
    "\n",
    "We consider the core decision of an MBA admissions committee: *which applicants should we accept in the MBA program?* The school is interested in predicting the MBA participant’s success in the future before offering admission. \n",
    "\n",
    "To make this decision, the committee uses a number of data about the applicants. Let us consider for example the following attributes in evaluating an MBA application (of course in practice many more can be considered):\n",
    "\n",
    "1. GPA\n",
    "2. GMAT score\n",
    "3. Scholarships, fellowships won\n",
    "4. Evidence of Communications skills (debating competition, personal interview score)\n",
    "5. Prior Job Experience\n",
    "6. Organizational Experience\n",
    "7. Other extra curricular achievements\n",
    "\n",
    "Let us assume that this data is converted into a numerical scale from 1-7. For example: a numerical rating may be given to the fellowships based on the prestige and the number of fellowships won. Job experience may be rated on the number of years on the job, with a numerical weighting for the level of the job in the managerial ladder.\n",
    "\n",
    "In particular, theory may suggest that there are really one or two basic factors (like intelligence and leadership skills) that lead to success in a management career. The various attributes are really different manifestations of these basic factors. But maybe there are other **hidden derived variables (factors)** in the data we have: instead of us manually combining raw attributes into meaningful derived ones, which not only is difficult with many data but also dangerous as we impose our biases, let’s get factor analysis to do the job for us - and use our intuition and judgment in the process."
   ]
  },
  {
   "cell_type": "markdown",
   "metadata": {},
   "source": [
    "### Question 1.1 (10 points)\n",
    "Read the data from MBAadmin.csv and check the descriptive statistics of the data. **Implement yourself the principal component analysis** and derive 2 principal components and show how much of the variances can be explained by these 2 principal components."
   ]
  },
  {
   "cell_type": "code",
   "execution_count": 1,
   "metadata": {},
   "outputs": [
    {
     "ename": "ImportError",
     "evalue": "C extension: No module named 'pandas._libs.tslib' not built. If you want to import pandas from the source directory, you may need to run 'python setup.py build_ext --inplace --force' to build the C extensions first.",
     "output_type": "error",
     "traceback": [
      "\u001b[1;31m---------------------------------------------------------------------------\u001b[0m",
      "\u001b[1;31mModuleNotFoundError\u001b[0m                       Traceback (most recent call last)",
      "\u001b[1;32m~\\Anaconda3\\lib\\site-packages\\pandas\\__init__.py\u001b[0m in \u001b[0;36m<module>\u001b[1;34m\u001b[0m\n\u001b[0;32m     25\u001b[0m \u001b[1;32mtry\u001b[0m\u001b[1;33m:\u001b[0m\u001b[1;33m\u001b[0m\u001b[1;33m\u001b[0m\u001b[0m\n\u001b[1;32m---> 26\u001b[1;33m     from pandas._libs import (hashtable as _hashtable,\n\u001b[0m\u001b[0;32m     27\u001b[0m                              \u001b[0mlib\u001b[0m \u001b[1;32mas\u001b[0m \u001b[0m_lib\u001b[0m\u001b[1;33m,\u001b[0m\u001b[1;33m\u001b[0m\u001b[1;33m\u001b[0m\u001b[0m\n",
      "\u001b[1;32m~\\Anaconda3\\lib\\site-packages\\pandas\\_libs\\__init__.py\u001b[0m in \u001b[0;36m<module>\u001b[1;34m\u001b[0m\n\u001b[0;32m      3\u001b[0m \u001b[1;33m\u001b[0m\u001b[0m\n\u001b[1;32m----> 4\u001b[1;33m \u001b[1;32mfrom\u001b[0m \u001b[1;33m.\u001b[0m\u001b[0mtslib\u001b[0m \u001b[1;32mimport\u001b[0m \u001b[0miNaT\u001b[0m\u001b[1;33m,\u001b[0m \u001b[0mNaT\u001b[0m\u001b[1;33m,\u001b[0m \u001b[0mTimestamp\u001b[0m\u001b[1;33m,\u001b[0m \u001b[0mTimedelta\u001b[0m\u001b[1;33m,\u001b[0m \u001b[0mOutOfBoundsDatetime\u001b[0m\u001b[1;33m\u001b[0m\u001b[1;33m\u001b[0m\u001b[0m\n\u001b[0m\u001b[0;32m      5\u001b[0m \u001b[1;33m\u001b[0m\u001b[0m\n",
      "\u001b[1;31mModuleNotFoundError\u001b[0m: No module named 'pandas._libs.tslib'",
      "\nDuring handling of the above exception, another exception occurred:\n",
      "\u001b[1;31mImportError\u001b[0m                               Traceback (most recent call last)",
      "\u001b[1;32m<ipython-input-1-b69fb8e65a17>\u001b[0m in \u001b[0;36m<module>\u001b[1;34m\u001b[0m\n\u001b[1;32m----> 1\u001b[1;33m \u001b[1;32mimport\u001b[0m \u001b[0mpandas\u001b[0m \u001b[1;32mas\u001b[0m \u001b[0mpd\u001b[0m\u001b[1;33m\u001b[0m\u001b[1;33m\u001b[0m\u001b[0m\n\u001b[0m\u001b[0;32m      2\u001b[0m \u001b[1;32mimport\u001b[0m \u001b[0mnumpy\u001b[0m \u001b[1;32mas\u001b[0m \u001b[0mnp\u001b[0m\u001b[1;33m\u001b[0m\u001b[1;33m\u001b[0m\u001b[0m\n\u001b[0;32m      3\u001b[0m \u001b[1;32mimport\u001b[0m \u001b[0mwarnings\u001b[0m\u001b[1;33m\u001b[0m\u001b[1;33m\u001b[0m\u001b[0m\n\u001b[0;32m      4\u001b[0m \u001b[0mwarnings\u001b[0m\u001b[1;33m.\u001b[0m\u001b[0mfilterwarnings\u001b[0m\u001b[1;33m(\u001b[0m\u001b[1;34m'ignore'\u001b[0m\u001b[1;33m)\u001b[0m\u001b[1;33m\u001b[0m\u001b[1;33m\u001b[0m\u001b[0m\n\u001b[0;32m      5\u001b[0m \u001b[1;33m\u001b[0m\u001b[0m\n",
      "\u001b[1;32m~\\Anaconda3\\lib\\site-packages\\pandas\\__init__.py\u001b[0m in \u001b[0;36m<module>\u001b[1;34m\u001b[0m\n\u001b[0;32m     33\u001b[0m                       \u001b[1;34m\"pandas from the source directory, you may need to run \"\u001b[0m\u001b[1;33m\u001b[0m\u001b[1;33m\u001b[0m\u001b[0m\n\u001b[0;32m     34\u001b[0m                       \u001b[1;34m\"'python setup.py build_ext --inplace --force' to build \"\u001b[0m\u001b[1;33m\u001b[0m\u001b[1;33m\u001b[0m\u001b[0m\n\u001b[1;32m---> 35\u001b[1;33m                       \"the C extensions first.\".format(module))\n\u001b[0m\u001b[0;32m     36\u001b[0m \u001b[1;33m\u001b[0m\u001b[0m\n\u001b[0;32m     37\u001b[0m \u001b[1;32mfrom\u001b[0m \u001b[0mdatetime\u001b[0m \u001b[1;32mimport\u001b[0m \u001b[0mdatetime\u001b[0m\u001b[1;33m\u001b[0m\u001b[1;33m\u001b[0m\u001b[0m\n",
      "\u001b[1;31mImportError\u001b[0m: C extension: No module named 'pandas._libs.tslib' not built. If you want to import pandas from the source directory, you may need to run 'python setup.py build_ext --inplace --force' to build the C extensions first."
     ]
    }
   ],
   "source": [
    "import pandas as pd\n",
    "import numpy as np\n",
    "import warnings\n",
    "warnings.filterwarnings('ignore')\n",
    "\n",
    "mba = pd.read_csv('MBAadmin.csv')"
   ]
  },
  {
   "cell_type": "code",
   "execution_count": 79,
   "metadata": {
    "scrolled": true
   },
   "outputs": [
    {
     "data": {
      "text/html": [
       "<div>\n",
       "<style scoped>\n",
       "    .dataframe tbody tr th:only-of-type {\n",
       "        vertical-align: middle;\n",
       "    }\n",
       "\n",
       "    .dataframe tbody tr th {\n",
       "        vertical-align: top;\n",
       "    }\n",
       "\n",
       "    .dataframe thead th {\n",
       "        text-align: right;\n",
       "    }\n",
       "</style>\n",
       "<table border=\"1\" class=\"dataframe\">\n",
       "  <thead>\n",
       "    <tr style=\"text-align: right;\">\n",
       "      <th></th>\n",
       "      <th>GPA</th>\n",
       "      <th>GMAT</th>\n",
       "      <th>Fellow</th>\n",
       "      <th>Comm</th>\n",
       "      <th>Job.Ex</th>\n",
       "      <th>Organze</th>\n",
       "      <th>Extra</th>\n",
       "    </tr>\n",
       "  </thead>\n",
       "  <tbody>\n",
       "    <tr>\n",
       "      <th>0</th>\n",
       "      <td>3.0</td>\n",
       "      <td>580</td>\n",
       "      <td>2.0</td>\n",
       "      <td>3.5</td>\n",
       "      <td>5</td>\n",
       "      <td>3.8</td>\n",
       "      <td>4.0</td>\n",
       "    </tr>\n",
       "    <tr>\n",
       "      <th>1</th>\n",
       "      <td>3.2</td>\n",
       "      <td>570</td>\n",
       "      <td>2.0</td>\n",
       "      <td>3.8</td>\n",
       "      <td>6</td>\n",
       "      <td>3.8</td>\n",
       "      <td>3.8</td>\n",
       "    </tr>\n",
       "    <tr>\n",
       "      <th>2</th>\n",
       "      <td>3.7</td>\n",
       "      <td>690</td>\n",
       "      <td>3.0</td>\n",
       "      <td>3.3</td>\n",
       "      <td>3</td>\n",
       "      <td>3.2</td>\n",
       "      <td>3.6</td>\n",
       "    </tr>\n",
       "    <tr>\n",
       "      <th>3</th>\n",
       "      <td>3.9</td>\n",
       "      <td>760</td>\n",
       "      <td>3.0</td>\n",
       "      <td>3.8</td>\n",
       "      <td>5</td>\n",
       "      <td>3.9</td>\n",
       "      <td>3.2</td>\n",
       "    </tr>\n",
       "    <tr>\n",
       "      <th>4</th>\n",
       "      <td>2.8</td>\n",
       "      <td>480</td>\n",
       "      <td>2.0</td>\n",
       "      <td>3.2</td>\n",
       "      <td>6</td>\n",
       "      <td>3.8</td>\n",
       "      <td>3.8</td>\n",
       "    </tr>\n",
       "  </tbody>\n",
       "</table>\n",
       "</div>"
      ],
      "text/plain": [
       "   GPA  GMAT  Fellow  Comm  Job.Ex  Organze  Extra\n",
       "0  3.0   580     2.0   3.5       5      3.8    4.0\n",
       "1  3.2   570     2.0   3.8       6      3.8    3.8\n",
       "2  3.7   690     3.0   3.3       3      3.2    3.6\n",
       "3  3.9   760     3.0   3.8       5      3.9    3.2\n",
       "4  2.8   480     2.0   3.2       6      3.8    3.8"
      ]
     },
     "execution_count": 79,
     "metadata": {},
     "output_type": "execute_result"
    }
   ],
   "source": [
    "mba.head()"
   ]
  },
  {
   "cell_type": "code",
   "execution_count": 80,
   "metadata": {
    "scrolled": true
   },
   "outputs": [
    {
     "name": "stdout",
     "output_type": "stream",
     "text": [
      "GPA          3.305\n",
      "GMAT       583.500\n",
      "Fellow       2.450\n",
      "Comm         3.335\n",
      "Job.Ex       4.250\n",
      "Organze      3.200\n",
      "Extra        3.300\n",
      "dtype: float64\n"
     ]
    }
   ],
   "source": [
    "M = np.mean(mba.T, axis=1)\n",
    "print(M)"
   ]
  },
  {
   "cell_type": "code",
   "execution_count": 81,
   "metadata": {
    "scrolled": true
   },
   "outputs": [
    {
     "name": "stdout",
     "output_type": "stream",
     "text": [
      "      GPA   GMAT  Fellow   Comm  Job.Ex  Organze  Extra\n",
      "0  -0.305   -3.5   -0.45  0.165    0.75      0.6    0.7\n",
      "1  -0.105  -13.5   -0.45  0.465    1.75      0.6    0.5\n",
      "2   0.395  106.5    0.55 -0.035   -1.25      0.0    0.3\n",
      "3   0.595  176.5    0.55  0.465    0.75      0.7   -0.1\n",
      "4  -0.505 -103.5   -0.45 -0.135    1.75      0.6    0.5\n",
      "5   0.095  -63.5    0.05 -0.735   -2.25     -0.7   -0.9\n",
      "6   0.295   86.5    0.55  0.365   -0.25      0.3   -0.4\n",
      "7   0.295  176.5    0.55  0.565    0.75      0.1   -0.1\n",
      "8  -0.505 -203.5   -1.45 -1.335   -1.25     -0.3   -0.2\n",
      "9   0.295  -23.5    0.55 -0.535   -2.25     -2.2   -0.5\n",
      "10 -0.505 -103.5   -0.45 -0.135   -0.25      0.2    0.4\n",
      "11  0.295    6.5    0.95  0.065    0.75      0.5    0.3\n",
      "12  0.495  136.5    1.35  0.465    1.75      0.6    0.4\n",
      "13  0.195   96.5    0.55  0.265    1.75      0.2    0.5\n",
      "14  0.595  116.5    1.25  0.465   -2.25     -1.1   -0.6\n",
      "15 -0.005  -23.5    0.35  0.065    0.75      0.6   -0.6\n",
      "16 -0.505 -143.5   -1.45 -0.035    0.75      0.3    0.5\n",
      "17 -0.805 -153.5   -1.45 -0.235   -1.25     -0.1   -0.4\n",
      "18 -0.805 -163.5   -1.45 -0.535   -2.25     -0.9   -0.8\n",
      "19  0.495   96.5    0.35  0.365    1.75      0.0    0.5\n"
     ]
    }
   ],
   "source": [
    "C = mba-M\n",
    "print(C)"
   ]
  },
  {
   "cell_type": "code",
   "execution_count": 82,
   "metadata": {
    "scrolled": false
   },
   "outputs": [
    {
     "name": "stdout",
     "output_type": "stream",
     "text": [
      "[[ 2.19447368e-01  5.02447368e+01  3.91842105e-01  1.27184211e-01\n",
      "   1.09210526e-01 -1.05263158e-02  2.63157895e-03]\n",
      " [ 5.02447368e+01  1.42660526e+04  9.27631579e+01  4.56605263e+01\n",
      "   5.96052632e+01  1.64736842e+01  9.84210526e+00]\n",
      " [ 3.91842105e-01  9.27631579e+01  8.19473684e-01  2.59210526e-01\n",
      "   2.50000000e-01  7.36842105e-03  1.00000000e-02]\n",
      " [ 1.27184211e-01  4.56605263e+01  2.59210526e-01  2.39236842e-01\n",
      "   4.43421053e-01  1.70526316e-01  9.84210526e-02]\n",
      " [ 1.09210526e-01  5.96052632e+01  2.50000000e-01  4.43421053e-01\n",
      "   2.30263158e+00  8.94736842e-01  6.00000000e-01]\n",
      " [-1.05263158e-02  1.64736842e+01  7.36842105e-03  1.70526316e-01\n",
      "   8.94736842e-01  5.40000000e-01  2.31052632e-01]\n",
      " [ 2.63157895e-03  9.84210526e+00  1.00000000e-02  9.84210526e-02\n",
      "   6.00000000e-01  2.31052632e-01  2.65263158e-01]]\n"
     ]
    }
   ],
   "source": [
    "V = np.cov(C.T)\n",
    "print(V)"
   ]
  },
  {
   "cell_type": "code",
   "execution_count": 83,
   "metadata": {
    "scrolled": false
   },
   "outputs": [
    {
     "name": "stdout",
     "output_type": "stream",
     "text": [
      "Vectors: [[ 3.52182669e-03 -5.09143931e-02  2.82598927e-01  9.25183466e-01\n",
      "  -4.98958876e-02 -2.38496315e-01  4.68895552e-02]\n",
      " [ 9.99957901e-01 -3.98033844e-03 -6.68762886e-03 -2.60590696e-03\n",
      "   2.74833430e-03 -3.03809934e-03 -2.32911014e-04]\n",
      " [ 6.50215184e-03 -7.48307220e-02  8.31162755e-01 -2.32935386e-01\n",
      "  -4.18531936e-01  2.17153225e-01  1.64143720e-01]\n",
      " [ 3.20058937e-03  1.13869857e-01 -1.18804656e-01  2.90049368e-01\n",
      "  -2.71225868e-03  9.27484681e-01 -1.68952774e-01]\n",
      " [ 4.17860740e-03  8.77815403e-01  2.60315362e-01 -3.61033596e-02\n",
      "   1.85782369e-01 -1.23205310e-01 -3.32656700e-01]\n",
      " [ 1.15495732e-03  3.82623391e-01 -3.82569433e-01  6.40419888e-02\n",
      "  -7.84171369e-01 -6.55353757e-02  2.89685412e-01]\n",
      " [ 6.90044307e-04  2.48727479e-01  3.19936159e-02  1.53754675e-02\n",
      "   4.15796446e-01  1.27485244e-01  8.64716715e-01]] \n",
      "\n",
      "Eigenvalues: [1.42672538e+04 2.62224187e+00 2.44559826e-01 1.41974479e-02\n",
      " 1.51626763e-01 6.02302398e-02 9.20070444e-02]\n"
     ]
    }
   ],
   "source": [
    "from numpy.linalg import eig\n",
    "\n",
    "values, vectors = eig(V)\n",
    "print(f'Vectors: {vectors} \\n')\n",
    "print(f'Eigenvalues: {values}')"
   ]
  },
  {
   "cell_type": "code",
   "execution_count": 84,
   "metadata": {
    "scrolled": true
   },
   "outputs": [],
   "source": [
    "variance = (values[0]+values[1])/sum(values)"
   ]
  },
  {
   "cell_type": "code",
   "execution_count": 85,
   "metadata": {
    "scrolled": false
   },
   "outputs": [
    {
     "name": "stdout",
     "output_type": "stream",
     "text": [
      "Matrix W:\n",
      " [[ 3.52182669e-03 -5.09143931e-02]\n",
      " [ 9.99957901e-01 -3.98033844e-03]\n",
      " [ 6.50215184e-03 -7.48307220e-02]\n",
      " [ 3.20058937e-03  1.13869857e-01]\n",
      " [ 4.17860740e-03  8.77815403e-01]\n",
      " [ 1.15495732e-03  3.82623391e-01]\n",
      " [ 6.90044307e-04  2.48727479e-01]]\n"
     ]
    }
   ],
   "source": [
    "eig_pairs = [(np.abs(values[i]), vectors[:,i]) for i in range(len(values))]\n",
    "\n",
    "eig_pairs.sort()\n",
    "eig_pairs.reverse()\n",
    "\n",
    "matrix_w = np.hstack((eig_pairs[0][1].reshape(7,1), \n",
    "                      eig_pairs[1][1].reshape(7,1)))\n",
    "\n",
    "print('Matrix W:\\n', matrix_w)"
   ]
  },
  {
   "cell_type": "code",
   "execution_count": 86,
   "metadata": {
    "scrolled": true
   },
   "outputs": [
    {
     "name": "stdout",
     "output_type": "stream",
     "text": [
      "             0         1\n",
      "0    -3.499015  1.143967\n",
      "1   -13.492889  2.035819\n",
      "2   106.495356 -1.511811\n",
      "3   176.503603  0.180294\n",
      "4  -103.492429  2.346093\n",
      "5   -63.509851 -2.306297\n",
      "6    86.501168 -0.563071\n",
      "7   176.502173 -0.022619\n",
      "8  -203.512620 -0.469603\n",
      "9   -23.508396 -2.964779\n",
      "10 -103.501317  0.412540\n",
      "11    6.511069  0.819712\n",
      "12  136.514545  1.248651\n",
      "13   96.508937  1.332053\n",
      "14  116.495721 -3.079799\n",
      "15  -23.493132  0.813702\n",
      "16 -143.501452  1.598922\n",
      "17 -153.512168 -0.501309\n",
      "18 -163.518086 -1.779072\n",
      "19   96.508782  1.266607\n"
     ]
    }
   ],
   "source": [
    "Y = C.dot(matrix_w)\n",
    "print(Y)"
   ]
  },
  {
   "cell_type": "code",
   "execution_count": 87,
   "metadata": {},
   "outputs": [
    {
     "name": "stdout",
     "output_type": "stream",
     "text": [
      "The new reduced dataset with the 2 main components explains 99.9961% of the variance.\n"
     ]
    }
   ],
   "source": [
    "print(f'The new reduced dataset with the 2 main components explains {round(variance*100,4)}% of the variance.')"
   ]
  },
  {
   "cell_type": "markdown",
   "metadata": {},
   "source": [
    "### Question 1.2 (10 points)\n",
    "\n",
    "Now use the sklearn.decomposition.PCA to perform principal component analysis on the data and explain which number of principal components should be chosen using Elbow method. "
   ]
  },
  {
   "cell_type": "code",
   "execution_count": 102,
   "metadata": {},
   "outputs": [],
   "source": [
    "X = C.copy()\n",
    "\n",
    "from sklearn.decomposition import PCA\n",
    "pca = PCA(n_components=2)\n",
    "y_pca = pca.fit_transform(X)"
   ]
  },
  {
   "cell_type": "code",
   "execution_count": 103,
   "metadata": {
    "scrolled": false
   },
   "outputs": [
    {
     "data": {
      "text/plain": [
       "array([[ 3.49901472e+00, -1.14396725e+00],\n",
       "       [ 1.34928886e+01, -2.03581862e+00],\n",
       "       [-1.06495356e+02,  1.51181058e+00],\n",
       "       [-1.76503603e+02, -1.80293966e-01],\n",
       "       [ 1.03492429e+02, -2.34609292e+00],\n",
       "       [ 6.35098509e+01,  2.30629702e+00],\n",
       "       [-8.65011676e+01,  5.63071245e-01],\n",
       "       [-1.76502173e+02,  2.26187652e-02],\n",
       "       [ 2.03512620e+02,  4.69602838e-01],\n",
       "       [ 2.35083957e+01,  2.96477892e+00],\n",
       "       [ 1.03501317e+02, -4.12540010e-01],\n",
       "       [-6.51106883e+00, -8.19711901e-01],\n",
       "       [-1.36514545e+02, -1.24865117e+00],\n",
       "       [-9.65089371e+01, -1.33205302e+00],\n",
       "       [-1.16495721e+02,  3.07979929e+00],\n",
       "       [ 2.34931316e+01, -8.13702413e-01],\n",
       "       [ 1.43501452e+02, -1.59892175e+00],\n",
       "       [ 1.53512168e+02,  5.01309417e-01],\n",
       "       [ 1.63518086e+02,  1.77907210e+00],\n",
       "       [-9.65087823e+01, -1.26660716e+00]])"
      ]
     },
     "execution_count": 103,
     "metadata": {},
     "output_type": "execute_result"
    }
   ],
   "source": [
    "y_pca"
   ]
  },
  {
   "cell_type": "code",
   "execution_count": 142,
   "metadata": {},
   "outputs": [],
   "source": [
    "n_components = np.arange(1,8)\n",
    "\n",
    "data = C.copy()\n",
    "pca1 = PCA(n_components=7)\n",
    "y_pca1 = pca1.fit_transform(data)\n",
    "variances = pca1.explained_variance_ratio_"
   ]
  },
  {
   "cell_type": "code",
   "execution_count": 146,
   "metadata": {
    "scrolled": true
   },
   "outputs": [
    {
     "data": {
      "text/plain": [
       "array([9.99776821e-01, 1.83753417e-04, 1.71375129e-05, 1.06252349e-05,\n",
       "       6.44738725e-06, 4.22062988e-06, 9.94885178e-07])"
      ]
     },
     "execution_count": 146,
     "metadata": {},
     "output_type": "execute_result"
    }
   ],
   "source": [
    "variances"
   ]
  },
  {
   "cell_type": "code",
   "execution_count": 147,
   "metadata": {},
   "outputs": [
    {
     "data": {
      "text/plain": [
       "array([1, 2, 3, 4, 5, 6, 7])"
      ]
     },
     "execution_count": 147,
     "metadata": {},
     "output_type": "execute_result"
    }
   ],
   "source": [
    "n_components"
   ]
  },
  {
   "cell_type": "code",
   "execution_count": 143,
   "metadata": {},
   "outputs": [],
   "source": [
    "import matplotlib.pyplot as plt\n",
    "%matplotlib inline"
   ]
  },
  {
   "cell_type": "code",
   "execution_count": 159,
   "metadata": {},
   "outputs": [
    {
     "data": {
      "text/plain": [
       "7"
      ]
     },
     "execution_count": 159,
     "metadata": {},
     "output_type": "execute_result"
    }
   ],
   "source": []
  },
  {
   "cell_type": "code",
   "execution_count": 176,
   "metadata": {
    "scrolled": true
   },
   "outputs": [
    {
     "data": {
      "image/png": "[encoded data removed]",
      "text/plain": [
       "<Figure size 432x288 with 1 Axes>"
      ]
     },
     "metadata": {
      "needs_background": "light"
     },
     "output_type": "display_data"
    }
   ],
   "source": [
    "plt.figure()\n",
    "plt.plot(n_components, np.cumsum(variances), marker='o')\n",
    "plt.plot(2, np.cumsum(variances)[1], color='red', marker='o', label='Elbow')\n",
    "plt.xlabel('Number of Components')\n",
    "plt.ylabel('Cumulative Explained Variance (%)') \n",
    "plt.title('MBA Dataset Explained Variance')\n",
    "plt.legend()\n",
    "plt.show()"
   ]
  },
  {
   "cell_type": "markdown",
   "metadata": {},
   "source": [
    "As it can be seen from the graph above by the lebow method it should be chosen 2 components. This is because the marginal increase in explained variance from 2 to 3 is much less than from 1 to 2 components."
   ]
  },
  {
   "cell_type": "markdown",
   "metadata": {},
   "source": [
    "## Question 2 Customer Segmentation\n",
    "\n",
    "The management team of a large shopping mall would like to understand the types of people who are, or could be, visiting their mall. They have good reasons to believe that there are a few different market segments, and they are considering designing and positioning the shopping mall services better in order to attract mainly a few profitable market segments, or to differentiate their services (e.g. invitations to events, discounts, etc) across market segments.\n",
    "\n",
    "We aim to describe attitudes of people to shopping in a shopping mall using a small dataset. To make these decisions, the management team run a market research survey of a few potential customers. In this case this was a small survey to only a few people, where each person answered six attitudinal questions and a question regarding how often they visit the mall, all on a scale 1-7, as well as one question regarding their household income:\n",
    "\n",
    "| Name        | Name           | Name  |\n",
    "| ------------- |:-------------:| -----:|\n",
    "| V1     | Shopping is fun | 1-7 |\n",
    "| V2      | Shopping is bad for your budget      |  1-7 |\n",
    "| V3 | I combine shopping with eating out      |    1-7 |\n",
    "| V4     | I try to get the best buys while shopping | 1-7 |\n",
    "| V5      | I don’t care about shopping      |  1-7 |\n",
    "| V6 | You can save lot of money by comparing prices      |    1-7 |\n",
    "| Income      | The household income of the respondent      |  Dollars |\n",
    "| Mall.Visits | How often they visit the mall      |    1-7 |\n"
   ]
  },
  {
   "cell_type": "code",
   "execution_count": 180,
   "metadata": {},
   "outputs": [],
   "source": [
    "X = pd.read_csv('Mall_visits.csv')"
   ]
  },
  {
   "cell_type": "code",
   "execution_count": 181,
   "metadata": {},
   "outputs": [
    {
     "data": {
      "text/html": [
       "<div>\n",
       "<style scoped>\n",
       "    .dataframe tbody tr th:only-of-type {\n",
       "        vertical-align: middle;\n",
       "    }\n",
       "\n",
       "    .dataframe tbody tr th {\n",
       "        vertical-align: top;\n",
       "    }\n",
       "\n",
       "    .dataframe thead th {\n",
       "        text-align: right;\n",
       "    }\n",
       "</style>\n",
       "<table border=\"1\" class=\"dataframe\">\n",
       "  <thead>\n",
       "    <tr style=\"text-align: right;\">\n",
       "      <th></th>\n",
       "      <th>ID</th>\n",
       "      <th>V1</th>\n",
       "      <th>V2</th>\n",
       "      <th>V3</th>\n",
       "      <th>V4</th>\n",
       "      <th>V5</th>\n",
       "      <th>V6</th>\n",
       "      <th>Income</th>\n",
       "      <th>Mall.Visits</th>\n",
       "    </tr>\n",
       "  </thead>\n",
       "  <tbody>\n",
       "    <tr>\n",
       "      <th>0</th>\n",
       "      <td>1</td>\n",
       "      <td>6</td>\n",
       "      <td>4</td>\n",
       "      <td>7</td>\n",
       "      <td>3</td>\n",
       "      <td>2</td>\n",
       "      <td>3</td>\n",
       "      <td>60000</td>\n",
       "      <td>3</td>\n",
       "    </tr>\n",
       "    <tr>\n",
       "      <th>1</th>\n",
       "      <td>2</td>\n",
       "      <td>2</td>\n",
       "      <td>3</td>\n",
       "      <td>1</td>\n",
       "      <td>4</td>\n",
       "      <td>5</td>\n",
       "      <td>4</td>\n",
       "      <td>30000</td>\n",
       "      <td>1</td>\n",
       "    </tr>\n",
       "    <tr>\n",
       "      <th>2</th>\n",
       "      <td>3</td>\n",
       "      <td>7</td>\n",
       "      <td>2</td>\n",
       "      <td>6</td>\n",
       "      <td>4</td>\n",
       "      <td>1</td>\n",
       "      <td>3</td>\n",
       "      <td>70000</td>\n",
       "      <td>3</td>\n",
       "    </tr>\n",
       "    <tr>\n",
       "      <th>3</th>\n",
       "      <td>4</td>\n",
       "      <td>4</td>\n",
       "      <td>6</td>\n",
       "      <td>4</td>\n",
       "      <td>5</td>\n",
       "      <td>3</td>\n",
       "      <td>6</td>\n",
       "      <td>30000</td>\n",
       "      <td>7</td>\n",
       "    </tr>\n",
       "    <tr>\n",
       "      <th>4</th>\n",
       "      <td>5</td>\n",
       "      <td>1</td>\n",
       "      <td>3</td>\n",
       "      <td>2</td>\n",
       "      <td>2</td>\n",
       "      <td>6</td>\n",
       "      <td>4</td>\n",
       "      <td>60000</td>\n",
       "      <td>1</td>\n",
       "    </tr>\n",
       "  </tbody>\n",
       "</table>\n",
       "</div>"
      ],
      "text/plain": [
       "   ID  V1  V2  V3  V4  V5  V6  Income  Mall.Visits\n",
       "0   1   6   4   7   3   2   3   60000            3\n",
       "1   2   2   3   1   4   5   4   30000            1\n",
       "2   3   7   2   6   4   1   3   70000            3\n",
       "3   4   4   6   4   5   3   6   30000            7\n",
       "4   5   1   3   2   2   6   4   60000            1"
      ]
     },
     "execution_count": 181,
     "metadata": {},
     "output_type": "execute_result"
    }
   ],
   "source": [
    "X.head()"
   ]
  },
  {
   "cell_type": "markdown",
   "metadata": {},
   "source": [
    "### Question 2.1 (10 points) \n",
    "\n",
    "Perform customer segmentation using k-Means algorithm by setting k=1. What can we infer from customer segmentation with one cluster? Explain this using the obtained centroid of cluster."
   ]
  },
  {
   "cell_type": "code",
   "execution_count": 179,
   "metadata": {},
   "outputs": [],
   "source": [
    "from sklearn.preprocessing import StandardScaler\n",
    "from sklearn.cluster import KMeans"
   ]
  },
  {
   "cell_type": "code",
   "execution_count": 182,
   "metadata": {},
   "outputs": [],
   "source": [
    "scaler = StandardScaler()\n",
    "X_std = scaler.fit_transform(X)"
   ]
  },
  {
   "cell_type": "code",
   "execution_count": 190,
   "metadata": {},
   "outputs": [],
   "source": [
    "clt = KMeans(n_clusters=1, random_state=0, n_jobs=-1)\n",
    "model = clt.fit(X_std)"
   ]
  },
  {
   "cell_type": "code",
   "execution_count": 189,
   "metadata": {
    "scrolled": true
   },
   "outputs": [
    {
     "data": {
      "text/plain": [
       "array([0, 0, 0, 0, 0, 0, 0, 0, 0, 0, 0, 0, 0, 0, 0, 0, 0, 0, 0, 0, 0, 0,\n",
       "       0, 0, 0, 0, 0, 0, 0, 0, 0, 0, 0, 0, 0, 0, 0, 0, 0, 0])"
      ]
     },
     "execution_count": 189,
     "metadata": {},
     "output_type": "execute_result"
    }
   ],
   "source": [
    "model.labels_"
   ]
  },
  {
   "cell_type": "code",
   "execution_count": 187,
   "metadata": {},
   "outputs": [
    {
     "data": {
      "text/plain": [
       "array([[ 5.55111512e-17, -7.21644966e-17,  3.13638004e-16,\n",
       "        -8.32667268e-17,  2.54657406e-16, -6.66133815e-17,\n",
       "         2.44249065e-16, -2.77555756e-17, -1.11022302e-17]])"
      ]
     },
     "execution_count": 187,
     "metadata": {},
     "output_type": "execute_result"
    }
   ],
   "source": [
    "model.cluster_centers_"
   ]
  },
  {
   "cell_type": "markdown",
   "metadata": {},
   "source": [
    "### Question 2.2 (10 points)\n",
    "\n",
    "Now perform customer segmentation by setting the number of k to be 3. Explain the obtained clusters. Check the distribution of each feature across the clusters and see whether these features are statisically significantly different from each other. "
   ]
  },
  {
   "cell_type": "code",
   "execution_count": 191,
   "metadata": {},
   "outputs": [],
   "source": [
    "clt = KMeans(n_clusters=3, random_state=0, n_jobs=-1)\n",
    "model = clt.fit(X_std)"
   ]
  },
  {
   "cell_type": "code",
   "execution_count": 192,
   "metadata": {},
   "outputs": [
    {
     "data": {
      "text/plain": [
       "array([1, 2, 1, 0, 2, 1, 1, 1, 2, 0, 2, 1, 2, 0, 1, 0, 1, 0, 0, 2, 1, 2,\n",
       "       1, 0, 2, 1, 1, 1, 2, 0, 2, 1, 2, 0, 1, 0, 1, 0, 0, 2])"
      ]
     },
     "execution_count": 192,
     "metadata": {},
     "output_type": "execute_result"
    }
   ],
   "source": [
    "model.labels_"
   ]
  },
  {
   "cell_type": "code",
   "execution_count": 193,
   "metadata": {},
   "outputs": [
    {
     "data": {
      "text/plain": [
       "array([[ 2.59888849e-01, -1.89051145e-01,  1.26081448e+00,\n",
       "        -3.14384524e-01,  1.28390102e+00,  2.91234686e-02,\n",
       "         1.13122543e+00, -8.92156863e-01,  1.17170020e+00],\n",
       "       [-1.62430531e-01,  1.02627765e+00, -3.45511660e-01,\n",
       "         1.04511612e+00, -6.58843944e-01, -9.17389259e-01,\n",
       "        -3.25655806e-01,  8.23529412e-01, -2.98372438e-17],\n",
       "       [-4.33148082e-02, -1.17931905e+00, -8.00132264e-01,\n",
       "        -1.07910364e+00, -4.05442427e-01,  1.19406221e+00,\n",
       "        -6.97017690e-01, -2.05882353e-01, -1.17170020e+00]])"
      ]
     },
     "execution_count": 193,
     "metadata": {},
     "output_type": "execute_result"
    }
   ],
   "source": [
    "model.cluster_centers_"
   ]
  },
  {
   "cell_type": "markdown",
   "metadata": {},
   "source": [
    "### Question 2.3 (10 points)\n",
    "\n",
    "Now perform customer segmentation by setting the number of k using the Elbow method and Silhouette score, respectively. Explain what would be the k you get from two methods."
   ]
  },
  {
   "cell_type": "code",
   "execution_count": 201,
   "metadata": {},
   "outputs": [
    {
     "ename": "ModuleNotFoundError",
     "evalue": "No module named 'yellowbrick'",
     "output_type": "error",
     "traceback": [
      "\u001b[1;31m---------------------------------------------------------------------------\u001b[0m",
      "\u001b[1;31mModuleNotFoundError\u001b[0m                       Traceback (most recent call last)",
      "\u001b[1;32m<ipython-input-201-e2ae98956353>\u001b[0m in \u001b[0;36m<module>\u001b[1;34m()\u001b[0m\n\u001b[1;32m----> 1\u001b[1;33m \u001b[1;32mfrom\u001b[0m \u001b[0myellowbrick\u001b[0m\u001b[1;33m.\u001b[0m\u001b[0mcluster\u001b[0m \u001b[1;32mimport\u001b[0m \u001b[0mKElbowVisualizer\u001b[0m\u001b[1;33m\u001b[0m\u001b[0m\n\u001b[0m\u001b[0;32m      2\u001b[0m \u001b[1;33m\u001b[0m\u001b[0m\n\u001b[0;32m      3\u001b[0m \u001b[0mmodel\u001b[0m \u001b[1;33m=\u001b[0m \u001b[0mKMeans\u001b[0m\u001b[1;33m(\u001b[0m\u001b[1;33m)\u001b[0m\u001b[1;33m\u001b[0m\u001b[0m\n\u001b[0;32m      4\u001b[0m \u001b[0mvisualizer\u001b[0m \u001b[1;33m=\u001b[0m \u001b[0mKElbowVisualizer\u001b[0m\u001b[1;33m(\u001b[0m\u001b[0mmodel\u001b[0m\u001b[1;33m,\u001b[0m \u001b[0mk\u001b[0m\u001b[1;33m=\u001b[0m\u001b[1;33m(\u001b[0m\u001b[1;36m2\u001b[0m\u001b[1;33m,\u001b[0m\u001b[1;36m12\u001b[0m\u001b[1;33m)\u001b[0m\u001b[1;33m)\u001b[0m\u001b[1;33m\u001b[0m\u001b[0m\n\u001b[0;32m      5\u001b[0m \u001b[1;33m\u001b[0m\u001b[0m\n",
      "\u001b[1;31mModuleNotFoundError\u001b[0m: No module named 'yellowbrick'"
     ]
    }
   ],
   "source": [
    "from yellowbrick.cluster import KElbowVisualizer\n",
    "\n",
    "model = KMeans()\n",
    "visualizer = KElbowVisualizer(model, k=(2,12))\n",
    "\n",
    "visualizer.fit(X)   \n",
    "visualizer.poof()  "
   ]
  },
  {
   "cell_type": "code",
   "execution_count": 198,
   "metadata": {
    "scrolled": true
   },
   "outputs": [
    {
     "name": "stdout",
     "output_type": "stream",
     "text": [
      "For n_clusters = 2 The average silhouette_score is : 0.6831170918516033\n",
      "For n_clusters = 3 The average silhouette_score is : 0.632690586868599\n",
      "For n_clusters = 4 The average silhouette_score is : 0.646857953328938\n",
      "For n_clusters = 5 The average silhouette_score is : 0.6789992858141238\n",
      "For n_clusters = 6 The average silhouette_score is : 0.6881010819756159\n",
      "For n_clusters = 7 The average silhouette_score is : 0.765189856691537\n",
      "For n_clusters = 8 The average silhouette_score is : 0.8126052083141818\n",
      "For n_clusters = 9 The average silhouette_score is : 0.8705608580666275\n",
      "For n_clusters = 10 The average silhouette_score is : 0.9301424588149227\n",
      "For n_clusters = 11 The average silhouette_score is : 0.9965424508175575\n",
      "For n_clusters = 12 The average silhouette_score is : 0.891132301732419\n"
     ]
    }
   ],
   "source": [
    "from sklearn.metrics import silhouette_samples, silhouette_score\n",
    "range_n_clusters = [2, 3, 4, 5, 6, 7, 8,9,10,11,12]\n",
    "\n",
    "for n_clusters in range_n_clusters:\n",
    "    clusterer = KMeans(n_clusters=n_clusters, random_state=10)\n",
    "    cluster_labels = clusterer.fit_predict(X)\n",
    "    silhouette_avg = silhouette_score(X, cluster_labels)\n",
    "    print(\"For n_clusters =\", n_clusters,\n",
    "          \"The average silhouette_score is :\", silhouette_avg)"
   ]
  },
  {
   "cell_type": "markdown",
   "metadata": {},
   "source": [
    "## Question 3 Birds of a feather laugh together\n",
    "\n",
    "Jester is a research project from the UC Berkeley Laboratory for Automation Science and Engineering. Users are asked to rate the jokes they read and may see more similar jokes. The dataset `jester_dataset.zip`, when unzipped, they are in Excel (.xls) format that contains ratings from 23,500 users who have rated 36 or more jokes. Ratings are real values ranging from -10.00 to +10.00 (the value \"99\" corresponds to \"null\" = \"not rated\"). The text of the jokes is given `jester_dataset_joke_text.zip`. The first column gives the number of jokes rated by that user. The next 100 columns give the ratings for jokes 01 - 100."
   ]
  },
  {
   "cell_type": "code",
   "execution_count": 211,
   "metadata": {},
   "outputs": [],
   "source": [
    "X = pd.read_excel('jester-data-2.xls', header=None)"
   ]
  },
  {
   "cell_type": "code",
   "execution_count": 212,
   "metadata": {},
   "outputs": [
    {
     "data": {
      "text/html": [
       "<div>\n",
       "<style scoped>\n",
       "    .dataframe tbody tr th:only-of-type {\n",
       "        vertical-align: middle;\n",
       "    }\n",
       "\n",
       "    .dataframe tbody tr th {\n",
       "        vertical-align: top;\n",
       "    }\n",
       "\n",
       "    .dataframe thead th {\n",
       "        text-align: right;\n",
       "    }\n",
       "</style>\n",
       "<table border=\"1\" class=\"dataframe\">\n",
       "  <thead>\n",
       "    <tr style=\"text-align: right;\">\n",
       "      <th></th>\n",
       "      <th>0</th>\n",
       "      <th>1</th>\n",
       "      <th>2</th>\n",
       "      <th>3</th>\n",
       "      <th>4</th>\n",
       "      <th>5</th>\n",
       "      <th>6</th>\n",
       "      <th>7</th>\n",
       "      <th>8</th>\n",
       "      <th>9</th>\n",
       "      <th>...</th>\n",
       "      <th>91</th>\n",
       "      <th>92</th>\n",
       "      <th>93</th>\n",
       "      <th>94</th>\n",
       "      <th>95</th>\n",
       "      <th>96</th>\n",
       "      <th>97</th>\n",
       "      <th>98</th>\n",
       "      <th>99</th>\n",
       "      <th>100</th>\n",
       "    </tr>\n",
       "  </thead>\n",
       "  <tbody>\n",
       "    <tr>\n",
       "      <th>0</th>\n",
       "      <td>50</td>\n",
       "      <td>99.00</td>\n",
       "      <td>8.11</td>\n",
       "      <td>99.00</td>\n",
       "      <td>99.0</td>\n",
       "      <td>-2.28</td>\n",
       "      <td>-4.22</td>\n",
       "      <td>5.49</td>\n",
       "      <td>-2.62</td>\n",
       "      <td>99.00</td>\n",
       "      <td>...</td>\n",
       "      <td>99.00</td>\n",
       "      <td>99.0</td>\n",
       "      <td>99.00</td>\n",
       "      <td>99.00</td>\n",
       "      <td>99.00</td>\n",
       "      <td>-5.92</td>\n",
       "      <td>99.0</td>\n",
       "      <td>99.00</td>\n",
       "      <td>99.00</td>\n",
       "      <td>99.00</td>\n",
       "    </tr>\n",
       "    <tr>\n",
       "      <th>1</th>\n",
       "      <td>100</td>\n",
       "      <td>-4.37</td>\n",
       "      <td>-3.88</td>\n",
       "      <td>0.73</td>\n",
       "      <td>-3.2</td>\n",
       "      <td>-6.41</td>\n",
       "      <td>1.17</td>\n",
       "      <td>7.82</td>\n",
       "      <td>-4.76</td>\n",
       "      <td>-6.41</td>\n",
       "      <td>...</td>\n",
       "      <td>5.73</td>\n",
       "      <td>-6.7</td>\n",
       "      <td>1.99</td>\n",
       "      <td>2.62</td>\n",
       "      <td>-0.49</td>\n",
       "      <td>3.45</td>\n",
       "      <td>3.2</td>\n",
       "      <td>-0.53</td>\n",
       "      <td>-0.53</td>\n",
       "      <td>-2.96</td>\n",
       "    </tr>\n",
       "    <tr>\n",
       "      <th>2</th>\n",
       "      <td>42</td>\n",
       "      <td>99.00</td>\n",
       "      <td>99.00</td>\n",
       "      <td>99.00</td>\n",
       "      <td>99.0</td>\n",
       "      <td>0.73</td>\n",
       "      <td>99.00</td>\n",
       "      <td>5.53</td>\n",
       "      <td>3.25</td>\n",
       "      <td>99.00</td>\n",
       "      <td>...</td>\n",
       "      <td>99.00</td>\n",
       "      <td>99.0</td>\n",
       "      <td>99.00</td>\n",
       "      <td>99.00</td>\n",
       "      <td>3.16</td>\n",
       "      <td>99.00</td>\n",
       "      <td>99.0</td>\n",
       "      <td>99.00</td>\n",
       "      <td>99.00</td>\n",
       "      <td>99.00</td>\n",
       "    </tr>\n",
       "    <tr>\n",
       "      <th>3</th>\n",
       "      <td>65</td>\n",
       "      <td>0.34</td>\n",
       "      <td>-6.55</td>\n",
       "      <td>2.86</td>\n",
       "      <td>99.0</td>\n",
       "      <td>-3.64</td>\n",
       "      <td>1.12</td>\n",
       "      <td>5.34</td>\n",
       "      <td>2.33</td>\n",
       "      <td>99.00</td>\n",
       "      <td>...</td>\n",
       "      <td>99.00</td>\n",
       "      <td>99.0</td>\n",
       "      <td>99.00</td>\n",
       "      <td>99.00</td>\n",
       "      <td>99.00</td>\n",
       "      <td>99.00</td>\n",
       "      <td>99.0</td>\n",
       "      <td>99.00</td>\n",
       "      <td>99.00</td>\n",
       "      <td>99.00</td>\n",
       "    </tr>\n",
       "    <tr>\n",
       "      <th>4</th>\n",
       "      <td>37</td>\n",
       "      <td>99.00</td>\n",
       "      <td>99.00</td>\n",
       "      <td>99.00</td>\n",
       "      <td>99.0</td>\n",
       "      <td>9.13</td>\n",
       "      <td>99.00</td>\n",
       "      <td>-9.32</td>\n",
       "      <td>-2.04</td>\n",
       "      <td>99.00</td>\n",
       "      <td>...</td>\n",
       "      <td>99.00</td>\n",
       "      <td>99.0</td>\n",
       "      <td>99.00</td>\n",
       "      <td>99.00</td>\n",
       "      <td>99.00</td>\n",
       "      <td>99.00</td>\n",
       "      <td>99.0</td>\n",
       "      <td>99.00</td>\n",
       "      <td>99.00</td>\n",
       "      <td>99.00</td>\n",
       "    </tr>\n",
       "  </tbody>\n",
       "</table>\n",
       "<p>5 rows × 101 columns</p>\n",
       "</div>"
      ],
      "text/plain": [
       "   0      1      2      3     4     5      6     7     8      9    ...    \\\n",
       "0   50  99.00   8.11  99.00  99.0 -2.28  -4.22  5.49 -2.62  99.00  ...     \n",
       "1  100  -4.37  -3.88   0.73  -3.2 -6.41   1.17  7.82 -4.76  -6.41  ...     \n",
       "2   42  99.00  99.00  99.00  99.0  0.73  99.00  5.53  3.25  99.00  ...     \n",
       "3   65   0.34  -6.55   2.86  99.0 -3.64   1.12  5.34  2.33  99.00  ...     \n",
       "4   37  99.00  99.00  99.00  99.0  9.13  99.00 -9.32 -2.04  99.00  ...     \n",
       "\n",
       "     91    92     93     94     95     96    97     98     99     100  \n",
       "0  99.00  99.0  99.00  99.00  99.00  -5.92  99.0  99.00  99.00  99.00  \n",
       "1   5.73  -6.7   1.99   2.62  -0.49   3.45   3.2  -0.53  -0.53  -2.96  \n",
       "2  99.00  99.0  99.00  99.00   3.16  99.00  99.0  99.00  99.00  99.00  \n",
       "3  99.00  99.0  99.00  99.00  99.00  99.00  99.0  99.00  99.00  99.00  \n",
       "4  99.00  99.0  99.00  99.00  99.00  99.00  99.0  99.00  99.00  99.00  \n",
       "\n",
       "[5 rows x 101 columns]"
      ]
     },
     "execution_count": 212,
     "metadata": {},
     "output_type": "execute_result"
    }
   ],
   "source": [
    "X.head()"
   ]
  },
  {
   "cell_type": "markdown",
   "metadata": {},
   "source": [
    "### Question 3.1 (10 points) \n",
    "\n",
    "Build a user-based collaborative filtering and provide a list of top 5 jokes for the first user. Check the text of jokes to see if the recommendations are sensible. "
   ]
  },
  {
   "cell_type": "code",
   "execution_count": null,
   "metadata": {},
   "outputs": [],
   "source": []
  },
  {
   "cell_type": "markdown",
   "metadata": {},
   "source": [
    "### Question 3.2 (10 points) \n",
    "\n",
    "Build a item-based collaborative filtering and provide a list of top 5 jokes for the first user. Check the text of jokes to see if the recommendations are sensible."
   ]
  },
  {
   "cell_type": "code",
   "execution_count": null,
   "metadata": {},
   "outputs": [],
   "source": []
  },
  {
   "cell_type": "markdown",
   "metadata": {},
   "source": [
    "### Question 3.3 (20 points) \n",
    "\n",
    "Now build a recommendation system using matrix factorization (singular value decomposition). Get a list of top 5 jokes for the first user. Explain whether model-based recoomendation approach is better than neighborhood-based approach. Write a function that takes the parameter of user_id and return the text of recommended jokes)"
   ]
  },
  {
   "cell_type": "code",
   "execution_count": null,
   "metadata": {},
   "outputs": [],
   "source": []
  },
  {
   "cell_type": "code",
   "execution_count": null,
   "metadata": {},
   "outputs": [],
   "source": []
  }
 ],
 "metadata": {
  "kernelspec": {
   "display_name": "Python 3",
   "language": "python",
   "name": "python3"
  },
  "language_info": {
   "codemirror_mode": {
    "name": "ipython",
    "version": 3
   },
   "file_extension": ".py",
   "mimetype": "text/x-python",
   "name": "python",
   "nbconvert_exporter": "python",
   "pygments_lexer": "ipython3",
   "version": "3.6.8"
  }
 },
 "nbformat": 4,
 "nbformat_minor": 2
}
